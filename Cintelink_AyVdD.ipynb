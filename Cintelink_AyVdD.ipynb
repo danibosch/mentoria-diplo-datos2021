{
  "nbformat": 4,
  "nbformat_minor": 0,
  "metadata": {
    "colab": {
      "name": "Cintelink - AyVdD.ipynb",
      "provenance": [],
      "collapsed_sections": [],
      "include_colab_link": true
    },
    "kernelspec": {
      "name": "python3",
      "display_name": "Python 3"
    },
    "language_info": {
      "name": "python"
    }
  },
  "cells": [
    {
      "cell_type": "markdown",
      "metadata": {
        "id": "view-in-github",
        "colab_type": "text"
      },
      "source": [
        "<a href=\"https://colab.research.google.com/github/danibosch/mentoria-diplo-datos2021/blob/main/Cintelink_AyVdD.ipynb\" target=\"_parent\"><img src=\"https://colab.research.google.com/assets/colab-badge.svg\" alt=\"Open In Colab\"/></a>"
      ]
    },
    {
      "cell_type": "markdown",
      "metadata": {
        "id": "_wGzY26hLRzh"
      },
      "source": [
        "<small>Diplomatura en Ciencia de Datos, Aprendizaje Automático y sus Aplicaciones, FaMAF UNC, 2021.</small>\n",
        "# Análisis y Visualización de Datos \n",
        "\n",
        "Este trabajo pertenece a la mentoría **GAP: Gestión Automática de Pedidos de Combustibles Líquidos basada en telemetría de inventarios**.\n",
        "\n",
        "Integrantes:\n",
        "- Bernaschini, María Laura\n",
        "- Bosch, Daniela\n",
        "- Rodríguez, Martín"
      ]
    },
    {
      "cell_type": "markdown",
      "metadata": {
        "id": "KPKWk95uVHF5"
      },
      "source": [
        "## Introducción\n",
        "\n",
        "Para alcanzar los objetivos propuestos en el proyecto, será necesario comprender el dataset, tomar sensibilidad y definir criterios del dominio para tomar decisiones sobre los procesos de curación, selección de modelos y realizar ingeniería de features si hiciera falta. En este práctico deberemos descubrir los patrones de manejo de inventarios y consumos por industria. Buscaremos una sugerencia de una solución básica para estimar inventarios de corto plazo.\n",
        "\n",
        "### Sobre el dataset\n",
        "\n",
        "El dataset está conformado por el historial de inventarios de tanques en sitios de diferentes empresas. Se trata de información real de centros operativos distribuidos en Argentina y algunos otros países. Los historiales son del primer trimestre de 2021. Los datos provienen de **sensores de nivel magnetostrictivos** colocados en los tanques de los centros operativos. Los datos son almacenados en servidores sin demasiada curación. Pueden contener errores. Puede haber datos faltantes en algunos casos.\n",
        "\n",
        "La principal información del dataset es el `volumen` medido en los tanques durante el paso del tiempo (`timestamp`). Sin embargo, features como `temperatura`, `codigo`, `producto`, `id_equipo`, `id_tanque`, `capacidad`, `industria`, permiten realizar un tratamiento de los datos para agruparlos y caracterizarlos, lo cual es necesario para comprender el dataset y luego entrenar un modelo de estimación generalista con hiperparámetros o features adicionales."
      ]
    },
    {
      "cell_type": "code",
      "metadata": {
        "id": "hf4hd_V5KTZk"
      },
      "source": [
        "import io\n",
        "import matplotlib\n",
        "import matplotlib.pyplot as plt\n",
        "import numpy\n",
        "import pandas as pd\n",
        "import seaborn\n",
        "from datetime import datetime, timedelta\n",
        "\n",
        "seaborn.set_context('talk')\n",
        "# Set float format\n",
        "pd.set_option('display.float_format','{:.2f}'.format)\n",
        "\n",
        "# Set style\n",
        "seaborn.set_style(\"darkgrid\")\n",
        "seaborn.set_palette('pastel')\n",
        "seaborn.set_context(\"paper\", rc={\"font.size\":12,\"axes.titlesize\":12,\"axes.labelsize\":12}) "
      ],
      "execution_count": null,
      "outputs": []
    },
    {
      "cell_type": "markdown",
      "metadata": {
        "id": "USeBG7QKILNC"
      },
      "source": [
        "## Lectura del dataset\n",
        "\n",
        "\n",
        "\n",
        "Como se trata de un dataset de gran tamaño debemos hacer algunas conversiones antes de leerlo."
      ]
    },
    {
      "cell_type": "code",
      "metadata": {
        "id": "WLRwaIbAWiU2",
        "colab": {
          "base_uri": "https://localhost:8080/"
        },
        "outputId": "dc68fe93-b7c1-4b0a-ab57-e39ebb40048d"
      },
      "source": [
        "from google.colab import drive\n",
        "drive.mount('/content/drive')"
      ],
      "execution_count": null,
      "outputs": [
        {
          "output_type": "stream",
          "text": [
            "Mounted at /content/drive\n"
          ],
          "name": "stdout"
        }
      ]
    },
    {
      "cell_type": "code",
      "metadata": {
        "id": "fkywFvhUzGok"
      },
      "source": [
        "def convert2float32(n):\n",
        "    try:\n",
        "        return numpy.float32(n)\n",
        "    except:\n",
        "        return numpy.nan\n",
        "\n",
        "def convert2float16(n):\n",
        "    try:\n",
        "        return numpy.float16(n)\n",
        "    except:\n",
        "        return numpy.nan\n",
        "\n",
        "def convert2int16(n):\n",
        "    try:\n",
        "        return numpy.int16(n)\n",
        "    except:\n",
        "        return numpy.nan\n",
        "\n",
        "def convert2int8(n):\n",
        "    try:\n",
        "        return numpy.int8(n)\n",
        "    except:\n",
        "        return numpy.nan"
      ],
      "execution_count": null,
      "outputs": []
    },
    {
      "cell_type": "code",
      "metadata": {
        "id": "BSjlCmpGQz8C"
      },
      "source": [
        "dtypes = {\n",
        "    \"id\": \"category\",\n",
        "    \"id_equipo\": \"category\",\n",
        "    \"id_tanque\": \"category\",\n",
        "    \"producto\": \"category\",\n",
        "    \"id_empresa\": \"category\",\n",
        "    \"id_canal\": \"category\",\n",
        "    \"nombre_producto\": \"category\",\n",
        "    \"industria\": \"category\",\n",
        "    \"alarma\": \"boolean\"\n",
        "}\n",
        "\n",
        "# Para evitar datos erróneos en el parsing\n",
        "converters = {\n",
        "    \"id_industria\": convert2float16,\n",
        "    \"volumen\": convert2float32,\n",
        "    \"vbat1\": convert2int16,\n",
        "    \"vbat2\": convert2int16,\n",
        "    \"capacidad\": convert2float32,\n",
        "    \"fuel_level_dmm\": convert2float32,\n",
        "    \"water_level_dmm\": convert2float32,\n",
        "    \"water_volume_lts\": convert2float32,\n",
        "    \"temp5\": convert2float16,\n",
        "    \"temp4\": convert2float16,\n",
        "    \"temp3\": convert2float16,\n",
        "    \"temp2\": convert2float16,\n",
        "    \"temp1\": convert2float16,\n",
        "    \"temperatura\": convert2float16,\n",
        "    \"coef_var_vol\": convert2float16,\n",
        "    \"density\": convert2float32\n",
        "}"
      ],
      "execution_count": null,
      "outputs": []
    },
    {
      "cell_type": "code",
      "metadata": {
        "id": "30eTZXUVLblX",
        "colab": {
          "base_uri": "https://localhost:8080/"
        },
        "outputId": "85f9cbdb-dc66-4a8f-d986-1d017bd6f128"
      },
      "source": [
        "# filename = '/content/drive/MyDrive/Colab Notebooks/DiploDatos/Mentoría/Datasets/dataset100mil.csv'\n",
        "filename = '/content/drive/MyDrive/Colab Notebooks/DiploDatos/Mentoría/Datasets/StorageInventory_2021_Q1.csv'\n",
        "raw_df = pd.read_csv(\n",
        "    filename, \n",
        "    converters=converters, \n",
        "    dtype=dtypes, \n",
        "    parse_dates=[\"timestamp\"],\n",
        "    index_col=0\n",
        ")"
      ],
      "execution_count": null,
      "outputs": [
        {
          "output_type": "stream",
          "text": [
            "/usr/local/lib/python3.7/dist-packages/numpy/lib/arraysetops.py:580: FutureWarning: elementwise comparison failed; returning scalar instead, but in the future will perform elementwise comparison\n",
            "  mask |= (ar1 == a)\n"
          ],
          "name": "stderr"
        }
      ]
    },
    {
      "cell_type": "code",
      "metadata": {
        "id": "DRT1Gm8k9Ov8",
        "colab": {
          "base_uri": "https://localhost:8080/"
        },
        "outputId": "a39afa4b-5edd-412c-ace0-562453a6ca34"
      },
      "source": [
        "raw_df.info(memory_usage=\"deep\")"
      ],
      "execution_count": null,
      "outputs": [
        {
          "output_type": "stream",
          "text": [
            "<class 'pandas.core.frame.DataFrame'>\n",
            "Int64Index: 10148505 entries, 0 to 10148504\n",
            "Data columns (total 28 columns):\n",
            " #   Column            Dtype         \n",
            "---  ------            -----         \n",
            " 0   id                category      \n",
            " 1   id_equipo         category      \n",
            " 2   id_tanque         category      \n",
            " 3   volumen           float64       \n",
            " 4   temperatura       float64       \n",
            " 5   codigo            object        \n",
            " 6   vbat1             int64         \n",
            " 7   vbat2             int64         \n",
            " 8   fuel_level_dmm    float64       \n",
            " 9   water_level_dmm   float64       \n",
            " 10  water_volume_lts  float64       \n",
            " 11  producto          category      \n",
            " 12  temp5             float64       \n",
            " 13  temp4             float64       \n",
            " 14  temp3             float64       \n",
            " 15  temp2             float64       \n",
            " 16  temp1             float64       \n",
            " 17  id_empresa        category      \n",
            " 18  current_firmware  object        \n",
            " 19  id_canal          category      \n",
            " 20  id_industria      float64       \n",
            " 21  industria         category      \n",
            " 22  capacidad         float64       \n",
            " 23  alarma            boolean       \n",
            " 24  nombre_producto   category      \n",
            " 25  coef_var_vol      float64       \n",
            " 26  density           float64       \n",
            " 27  timestamp         datetime64[ns]\n",
            "dtypes: boolean(1), category(8), datetime64[ns](1), float64(14), int64(2), object(2)\n",
            "memory usage: 3.0 GB\n"
          ],
          "name": "stdout"
        }
      ]
    },
    {
      "cell_type": "code",
      "metadata": {
        "id": "kNih1F5dNyTt",
        "colab": {
          "base_uri": "https://localhost:8080/",
          "height": 313
        },
        "outputId": "3e216bc7-a9a0-4a6b-942d-a91cc016b6bb"
      },
      "source": [
        "raw_df.head()"
      ],
      "execution_count": null,
      "outputs": [
        {
          "output_type": "execute_result",
          "data": {
            "text/html": [
              "<div>\n",
              "<style scoped>\n",
              "    .dataframe tbody tr th:only-of-type {\n",
              "        vertical-align: middle;\n",
              "    }\n",
              "\n",
              "    .dataframe tbody tr th {\n",
              "        vertical-align: top;\n",
              "    }\n",
              "\n",
              "    .dataframe thead th {\n",
              "        text-align: right;\n",
              "    }\n",
              "</style>\n",
              "<table border=\"1\" class=\"dataframe\">\n",
              "  <thead>\n",
              "    <tr style=\"text-align: right;\">\n",
              "      <th></th>\n",
              "      <th>id</th>\n",
              "      <th>id_equipo</th>\n",
              "      <th>id_tanque</th>\n",
              "      <th>volumen</th>\n",
              "      <th>temperatura</th>\n",
              "      <th>codigo</th>\n",
              "      <th>vbat1</th>\n",
              "      <th>vbat2</th>\n",
              "      <th>fuel_level_dmm</th>\n",
              "      <th>water_level_dmm</th>\n",
              "      <th>water_volume_lts</th>\n",
              "      <th>producto</th>\n",
              "      <th>temp5</th>\n",
              "      <th>temp4</th>\n",
              "      <th>temp3</th>\n",
              "      <th>temp2</th>\n",
              "      <th>temp1</th>\n",
              "      <th>id_empresa</th>\n",
              "      <th>current_firmware</th>\n",
              "      <th>id_canal</th>\n",
              "      <th>id_industria</th>\n",
              "      <th>industria</th>\n",
              "      <th>capacidad</th>\n",
              "      <th>alarma</th>\n",
              "      <th>nombre_producto</th>\n",
              "      <th>coef_var_vol</th>\n",
              "      <th>density</th>\n",
              "      <th>timestamp</th>\n",
              "    </tr>\n",
              "  </thead>\n",
              "  <tbody>\n",
              "    <tr>\n",
              "      <th>0</th>\n",
              "      <td>47936</td>\n",
              "      <td>430</td>\n",
              "      <td>964</td>\n",
              "      <td>17143.94</td>\n",
              "      <td>25.00</td>\n",
              "      <td>N1</td>\n",
              "      <td>67</td>\n",
              "      <td>357</td>\n",
              "      <td>9217.00</td>\n",
              "      <td>0.00</td>\n",
              "      <td>0.00</td>\n",
              "      <td>0</td>\n",
              "      <td>25.00</td>\n",
              "      <td>25.59</td>\n",
              "      <td>23.91</td>\n",
              "      <td>22.30</td>\n",
              "      <td>22.09</td>\n",
              "      <td>36</td>\n",
              "      <td>V61005a1b2e477d</td>\n",
              "      <td>4</td>\n",
              "      <td>1.00</td>\n",
              "      <td>Transportation</td>\n",
              "      <td>50191.00</td>\n",
              "      <td>False</td>\n",
              "      <td>Product 1</td>\n",
              "      <td>0.00</td>\n",
              "      <td>nan</td>\n",
              "      <td>2021-01-01 00:00:46</td>\n",
              "    </tr>\n",
              "    <tr>\n",
              "      <th>1</th>\n",
              "      <td>1906999</td>\n",
              "      <td>477</td>\n",
              "      <td>1014</td>\n",
              "      <td>16200.70</td>\n",
              "      <td>26.09</td>\n",
              "      <td>N1</td>\n",
              "      <td>67</td>\n",
              "      <td>304</td>\n",
              "      <td>15727.00</td>\n",
              "      <td>0.00</td>\n",
              "      <td>0.00</td>\n",
              "      <td>3</td>\n",
              "      <td>26.09</td>\n",
              "      <td>26.09</td>\n",
              "      <td>26.59</td>\n",
              "      <td>29.09</td>\n",
              "      <td>-56.59</td>\n",
              "      <td>100</td>\n",
              "      <td>V60603bQ74df1d3</td>\n",
              "      <td>4</td>\n",
              "      <td>6.00</td>\n",
              "      <td>Service Station</td>\n",
              "      <td>21259.00</td>\n",
              "      <td>True</td>\n",
              "      <td>Formula Diesel</td>\n",
              "      <td>0.00</td>\n",
              "      <td>nan</td>\n",
              "      <td>2021-01-01 00:00:24</td>\n",
              "    </tr>\n",
              "    <tr>\n",
              "      <th>2</th>\n",
              "      <td>1907000</td>\n",
              "      <td>477</td>\n",
              "      <td>1013</td>\n",
              "      <td>11265.10</td>\n",
              "      <td>25.70</td>\n",
              "      <td>N1</td>\n",
              "      <td>66</td>\n",
              "      <td>297</td>\n",
              "      <td>11579.00</td>\n",
              "      <td>0.00</td>\n",
              "      <td>0.00</td>\n",
              "      <td>2</td>\n",
              "      <td>25.70</td>\n",
              "      <td>-56.59</td>\n",
              "      <td>-56.59</td>\n",
              "      <td>-56.59</td>\n",
              "      <td>-56.59</td>\n",
              "      <td>100</td>\n",
              "      <td>V60603bQ74df1d3</td>\n",
              "      <td>4</td>\n",
              "      <td>6.00</td>\n",
              "      <td>Service Station</td>\n",
              "      <td>15032.00</td>\n",
              "      <td>True</td>\n",
              "      <td>VP Diesel</td>\n",
              "      <td>0.00</td>\n",
              "      <td>0.00</td>\n",
              "      <td>2021-01-01 00:00:31</td>\n",
              "    </tr>\n",
              "    <tr>\n",
              "      <th>3</th>\n",
              "      <td>1907001</td>\n",
              "      <td>477</td>\n",
              "      <td>1010</td>\n",
              "      <td>865.65</td>\n",
              "      <td>24.80</td>\n",
              "      <td>N1</td>\n",
              "      <td>66</td>\n",
              "      <td>302</td>\n",
              "      <td>1865.00</td>\n",
              "      <td>0.00</td>\n",
              "      <td>0.00</td>\n",
              "      <td>0</td>\n",
              "      <td>24.80</td>\n",
              "      <td>25.91</td>\n",
              "      <td>26.00</td>\n",
              "      <td>26.59</td>\n",
              "      <td>-56.59</td>\n",
              "      <td>100</td>\n",
              "      <td>V60603bQ74df1d3</td>\n",
              "      <td>4</td>\n",
              "      <td>6.00</td>\n",
              "      <td>Service Station</td>\n",
              "      <td>15032.00</td>\n",
              "      <td>True</td>\n",
              "      <td>VP Nafta</td>\n",
              "      <td>0.00</td>\n",
              "      <td>0.00</td>\n",
              "      <td>2021-01-01 00:00:38</td>\n",
              "    </tr>\n",
              "    <tr>\n",
              "      <th>4</th>\n",
              "      <td>1907002</td>\n",
              "      <td>477</td>\n",
              "      <td>1011</td>\n",
              "      <td>1929.49</td>\n",
              "      <td>26.00</td>\n",
              "      <td>N1</td>\n",
              "      <td>61</td>\n",
              "      <td>272</td>\n",
              "      <td>3255.00</td>\n",
              "      <td>0.00</td>\n",
              "      <td>0.00</td>\n",
              "      <td>1</td>\n",
              "      <td>26.00</td>\n",
              "      <td>-56.59</td>\n",
              "      <td>-56.59</td>\n",
              "      <td>-56.59</td>\n",
              "      <td>-56.59</td>\n",
              "      <td>100</td>\n",
              "      <td>V60603bQ74df1d3</td>\n",
              "      <td>4</td>\n",
              "      <td>6.00</td>\n",
              "      <td>Service Station</td>\n",
              "      <td>15032.00</td>\n",
              "      <td>True</td>\n",
              "      <td>Super</td>\n",
              "      <td>0.00</td>\n",
              "      <td>nan</td>\n",
              "      <td>2021-01-01 00:00:41</td>\n",
              "    </tr>\n",
              "  </tbody>\n",
              "</table>\n",
              "</div>"
            ],
            "text/plain": [
              "        id id_equipo id_tanque  ...  coef_var_vol  density           timestamp\n",
              "0    47936       430       964  ...          0.00      nan 2021-01-01 00:00:46\n",
              "1  1906999       477      1014  ...          0.00      nan 2021-01-01 00:00:24\n",
              "2  1907000       477      1013  ...          0.00     0.00 2021-01-01 00:00:31\n",
              "3  1907001       477      1010  ...          0.00     0.00 2021-01-01 00:00:38\n",
              "4  1907002       477      1011  ...          0.00      nan 2021-01-01 00:00:41\n",
              "\n",
              "[5 rows x 28 columns]"
            ]
          },
          "metadata": {
            "tags": []
          },
          "execution_count": 131
        }
      ]
    },
    {
      "cell_type": "markdown",
      "metadata": {
        "id": "aTnf77l5UfiB"
      },
      "source": [
        "## Limpieza de datos\n",
        "\n",
        "Antes de analizar cada una de las features de dataset, debemos convertir algunos tipos de datos y realizar la limpieza según distintos criterios."
      ]
    },
    {
      "cell_type": "markdown",
      "metadata": {
        "id": "746p7B5DIOOo"
      },
      "source": [
        "### Tipo de datos de columnas\n",
        "\n",
        "A fines de realizar correctamente el análisis y de optimizar el tamaño de nuestro dataframe realizamos algunas conversiones de tipos de acuerdo a los valores observados previamente. Luego, obtenemos una copia del mismo para no modificar la información del dataset original."
      ]
    },
    {
      "cell_type": "code",
      "metadata": {
        "id": "q7BTim8sH-MF"
      },
      "source": [
        "raw_df['volumen'] = raw_df['volumen'].astype(numpy.float32)\n",
        "raw_df['temperatura'] = raw_df['temperatura'].astype(numpy.float16)\n",
        "raw_df['temp5'] = raw_df['temp5'].astype(numpy.float16)\n",
        "raw_df['temp4'] = raw_df['temp4'].astype(numpy.float16)\n",
        "raw_df['temp3'] = raw_df['temp3'].astype(numpy.float16)\n",
        "raw_df['temp2'] = raw_df['temp2'].astype(numpy.float16)\n",
        "raw_df['temp1'] = raw_df['temp1'].astype(numpy.float16)\n",
        "raw_df['fuel_level_dmm'] = raw_df['fuel_level_dmm'].astype(numpy.float32)\n",
        "raw_df['water_level_dmm'] = raw_df['water_level_dmm'].astype(numpy.float32)\n",
        "raw_df['water_volume_lts'] = raw_df['water_volume_lts'].astype(numpy.float32)\n",
        "raw_df['capacidad'] = raw_df['capacidad'].astype(numpy.float32)\n",
        "raw_df['coef_var_vol'] = raw_df['coef_var_vol'].astype(numpy.float16)\n",
        "raw_df['density'] = raw_df['density'].astype(numpy.float16)\n",
        "raw_df['vbat1'] = raw_df['vbat1'].astype(numpy.int16)\n",
        "raw_df['vbat2'] = raw_df['vbat2'].astype(numpy.int16)\n",
        "raw_df['id_industria'] = raw_df['id_industria'].astype(\"category\")\n",
        "raw_df['codigo'] = raw_df['codigo'].astype(\"str\")"
      ],
      "execution_count": null,
      "outputs": []
    },
    {
      "cell_type": "code",
      "metadata": {
        "id": "jgUpihbZLGt5",
        "colab": {
          "base_uri": "https://localhost:8080/"
        },
        "outputId": "dde5e1b3-7ae0-4016-b5e3-e58b2be0e938"
      },
      "source": [
        "raw_df.info(memory_usage=\"deep\")"
      ],
      "execution_count": null,
      "outputs": [
        {
          "output_type": "stream",
          "text": [
            "<class 'pandas.core.frame.DataFrame'>\n",
            "Int64Index: 10148505 entries, 0 to 10148504\n",
            "Data columns (total 28 columns):\n",
            " #   Column            Dtype         \n",
            "---  ------            -----         \n",
            " 0   id                category      \n",
            " 1   id_equipo         category      \n",
            " 2   id_tanque         category      \n",
            " 3   volumen           float32       \n",
            " 4   temperatura       float16       \n",
            " 5   codigo            object        \n",
            " 6   vbat1             int16         \n",
            " 7   vbat2             int16         \n",
            " 8   fuel_level_dmm    float32       \n",
            " 9   water_level_dmm   float32       \n",
            " 10  water_volume_lts  float32       \n",
            " 11  producto          category      \n",
            " 12  temp5             float16       \n",
            " 13  temp4             float16       \n",
            " 14  temp3             float16       \n",
            " 15  temp2             float16       \n",
            " 16  temp1             float16       \n",
            " 17  id_empresa        category      \n",
            " 18  current_firmware  object        \n",
            " 19  id_canal          category      \n",
            " 20  id_industria      category      \n",
            " 21  industria         category      \n",
            " 22  capacidad         float32       \n",
            " 23  alarma            boolean       \n",
            " 24  nombre_producto   category      \n",
            " 25  coef_var_vol      float16       \n",
            " 26  density           float16       \n",
            " 27  timestamp         datetime64[ns]\n",
            "dtypes: boolean(1), category(9), datetime64[ns](1), float16(8), float32(5), int16(2), object(2)\n",
            "memory usage: 2.2 GB\n"
          ],
          "name": "stdout"
        }
      ]
    },
    {
      "cell_type": "code",
      "metadata": {
        "id": "NeQnrGByLdkw",
        "colab": {
          "base_uri": "https://localhost:8080/"
        },
        "outputId": "7c84c69c-87f0-4ae6-b443-b615a149552c"
      },
      "source": [
        "# Trabajamos sobre una copia y no sobre el original\n",
        "df = raw_df.copy()\n",
        "len(df)"
      ],
      "execution_count": null,
      "outputs": [
        {
          "output_type": "execute_result",
          "data": {
            "text/plain": [
              "10148505"
            ]
          },
          "metadata": {
            "tags": []
          },
          "execution_count": 7
        }
      ]
    },
    {
      "cell_type": "code",
      "metadata": {
        "id": "wrs21eEbohNC"
      },
      "source": [
        "# Si se llena la memoria, ejecutar\n",
        "del raw_df"
      ],
      "execution_count": null,
      "outputs": []
    },
    {
      "cell_type": "markdown",
      "metadata": {
        "id": "oXqJVWR1UiSy"
      },
      "source": [
        "### Valores faltantes\n",
        "\n",
        "Para esto observaremos las columnas de interés `volumen`, `codigo` y `temperatura`. Vemos además, si se observan intersecciones entre estos conjuntos.\n",
        "\n"
      ]
    },
    {
      "cell_type": "code",
      "metadata": {
        "id": "jNh9JPpO0Dfk"
      },
      "source": [
        "# Análisis de intersección nan entre variables\n",
        "df[df['temperatura'].isna() & df['codigo'].isna() & df['fuel_level_dmm'].isna()]"
      ],
      "execution_count": null,
      "outputs": []
    },
    {
      "cell_type": "markdown",
      "metadata": {
        "id": "1RbkptkRZtNs"
      },
      "source": [
        "Eliminamos los valores nulos que se observan en nuestra variable de interés `volumen`, ya que sin estos no es posible realizar ningún cálculo sonre inventarios y consumos.\n",
        "\n",
        "También decidimos eliminar aquellas `temperatura`s que tengan valores nulos, ya que el volumen se ve afectado por la misma (relación que se verá más adelante).\n",
        "\n",
        "Por último, no tuvimos en cuenta los valores nulos de `codigo` porque inferimos que el sensor no está funcionando y esto coincide con la existencia de valures nulos de temperatura y de nivel de combustible."
      ]
    },
    {
      "cell_type": "code",
      "metadata": {
        "id": "9Mbc1pa-uuCf"
      },
      "source": [
        "nan = numpy.nan\n",
        "\n",
        "# Volúmenes nulos\n",
        "df = df.query(\"volumen != @nan\")\n",
        "\n",
        "# Temperaturas nulas\n",
        "df = df.query(\"temperatura != @nan\")\n",
        "\n",
        "# Códigos nulos\n",
        "df = ~df['codigo'].isna()\n",
        "\n",
        "len(df)"
      ],
      "execution_count": null,
      "outputs": []
    },
    {
      "cell_type": "markdown",
      "metadata": {
        "id": "viQNXM2zXbBp"
      },
      "source": [
        "### Eliminación de outliers"
      ]
    },
    {
      "cell_type": "markdown",
      "metadata": {
        "id": "JpaeFTCt0hMt"
      },
      "source": [
        "#### Filtrado de valores erróneos\n",
        "A partir de la exploración de los datos definimos algunos criterios para el filtrado de nuestra base de datos. Por un lado, pudimos observar que la variable `volumen` posee valores mínimos negativos y que su máximo valor sobrepasa el valor máximo de la capacidad de los tanques, por lo que difinimos la primera y segunda condición de filtrado (`cond_1` y `cond_2`) y nos quedamos con valores de volúmenes mayores o iguales a cero y menores a la capacidad máxima. Por otro lado, vimos que cuando la carga de alguna de las dos baterías es cero el nivel de combustible también es cero o produce valores nulos (nan) por lo que no se estaría estimando correctamente el valor de volumen, definiendo de esta manera las condidiones 3 y 4 (`cond_3` y `cond_4`)."
      ]
    },
    {
      "cell_type": "code",
      "metadata": {
        "id": "yB7UKCmG0uxL"
      },
      "source": [
        "# Volúmenes negativos\n",
        "cond_1 = df[\"volumen\"] >= 0\n",
        "\n",
        "# Volúmenes mayores a la capacidad del tanque\n",
        "cond_2 = df[\"volumen\"] < df[\"capacidad\"].max()\n",
        "\n",
        "# Voltaje del pulso de eco 0\n",
        "cond_3 = df[\"vbat1\"] != 0\n",
        "\n",
        "# Batería con voltaje 0\n",
        "cond_4 = df[\"vbat2\"] != 0"
      ],
      "execution_count": null,
      "outputs": []
    },
    {
      "cell_type": "code",
      "metadata": {
        "id": "oSI5OloU_dsY",
        "colab": {
          "base_uri": "https://localhost:8080/"
        },
        "outputId": "89e25fc6-bae7-477d-97d3-731069f017de"
      },
      "source": [
        "df = df[cond_1 & cond_2 & cond_3 & cond_4]\n",
        "len(df)"
      ],
      "execution_count": null,
      "outputs": [
        {
          "output_type": "execute_result",
          "data": {
            "text/plain": [
              "10140141"
            ]
          },
          "metadata": {
            "tags": []
          },
          "execution_count": 12
        }
      ]
    },
    {
      "cell_type": "code",
      "metadata": {
        "id": "MtVcUTm8AJn7"
      },
      "source": [
        "df.info()"
      ],
      "execution_count": null,
      "outputs": []
    },
    {
      "cell_type": "code",
      "metadata": {
        "id": "wKxWB5DIAaZE"
      },
      "source": [
        "df.describe().round()"
      ],
      "execution_count": null,
      "outputs": []
    },
    {
      "cell_type": "code",
      "metadata": {
        "id": "WDM7GCW6BAyf"
      },
      "source": [
        "f, (ax_box, ax_hist) = plt.subplots(2, sharex=True, figsize=(15,9),gridspec_kw={\"height_ratios\": (.15, .85)})\n",
        " \n",
        "seaborn.boxplot(df.volumen, ax=ax_box)\n",
        "seaborn.distplot(df.volumen, ax=ax_hist, kde=False, hist=False)\n",
        "seaborn.distplot(df.volumen, ax=ax_hist, kde=True, hist=True,norm_hist=False)\n",
        "\n",
        "plt.axvline(df.volumen.quantile(0.25))\n",
        "plt.axvline(df.volumen.quantile(0.50),color='g')\n",
        "plt.axvline(df.volumen.quantile(0.75))\n",
        "plt.ticklabel_format(style='plain', axis='x') \n",
        "plt.axvline(df.volumen.mean(),color='red') \n",
        "ax_box.set_title\n",
        "plt.show()"
      ],
      "execution_count": null,
      "outputs": []
    },
    {
      "cell_type": "markdown",
      "metadata": {
        "id": "6KI4or86C3vk"
      },
      "source": [
        "#### Filtrado teniendo en cuenta el rango intercuartílico"
      ]
    },
    {
      "cell_type": "code",
      "metadata": {
        "id": "mSRSRbviBWm9",
        "colab": {
          "base_uri": "https://localhost:8080/"
        },
        "outputId": "03f7ad69-eef4-4384-fccc-7e12396e1ce0"
      },
      "source": [
        "q1 = df.volumen.quantile(0.25)\n",
        "q3 = df.volumen.quantile(0.75)\n",
        "RI = q3 - q1\n",
        "min = q1 - 2.5*RI\n",
        "max = q3 + 2.5*RI\n",
        "print(\"Límite inferior =\", min)\n",
        "print(\"Límite superior =\", max)"
      ],
      "execution_count": null,
      "outputs": [
        {
          "output_type": "stream",
          "text": [
            "Límite inferior = -21873.07275390625\n",
            "Límite superior = 34603.90185546875\n"
          ],
          "name": "stdout"
        }
      ]
    },
    {
      "cell_type": "code",
      "metadata": {
        "id": "8TTsbrkBBuOP",
        "colab": {
          "base_uri": "https://localhost:8080/"
        },
        "outputId": "122e5813-2ac6-4548-efcb-59ae8fc24da7"
      },
      "source": [
        "df = df[df.volumen < max]\n",
        "len(df)"
      ],
      "execution_count": null,
      "outputs": [
        {
          "output_type": "execute_result",
          "data": {
            "text/plain": [
              "9885016"
            ]
          },
          "metadata": {
            "tags": []
          },
          "execution_count": 14
        }
      ]
    },
    {
      "cell_type": "markdown",
      "metadata": {
        "id": "KFVQJuooGvpL"
      },
      "source": [
        "#### Filtrado teniendo en cuenta el la desviación estándar"
      ]
    },
    {
      "cell_type": "code",
      "metadata": {
        "id": "k7ZocByhBmSr",
        "colab": {
          "base_uri": "https://localhost:8080/"
        },
        "outputId": "e262dd55-4560-46a7-c4ed-8a90f4a00a35"
      },
      "source": [
        "vol_mean = df.volumen.mean()\n",
        "vol_std = df.volumen.std()\n",
        "min_s = vol_mean - 2.5 * vol_std\n",
        "max_s = vol_mean + 2.5 * vol_std\n",
        "print(\"Límite inferior =\", min_s)\n",
        "print(\"Límite superior =\", max_s)"
      ],
      "execution_count": null,
      "outputs": [
        {
          "output_type": "stream",
          "text": [
            "Límite inferior = -10803.3701171875\n",
            "Límite superior = 24353.5927734375\n"
          ],
          "name": "stdout"
        }
      ]
    },
    {
      "cell_type": "code",
      "metadata": {
        "id": "w2Z4PSSpBptC",
        "colab": {
          "base_uri": "https://localhost:8080/"
        },
        "outputId": "8ce56cf8-e0a8-4db0-a09b-2d0b08794928"
      },
      "source": [
        "df = df[df.volumen < max_s]\n",
        "len(df)"
      ],
      "execution_count": null,
      "outputs": [
        {
          "output_type": "execute_result",
          "data": {
            "text/plain": [
              "9535214"
            ]
          },
          "metadata": {
            "tags": []
          },
          "execution_count": 16
        }
      ]
    },
    {
      "cell_type": "code",
      "metadata": {
        "id": "Xw9baanmB6-r"
      },
      "source": [
        "f, (ax_box, ax_hist) = plt.subplots(2, sharex=True, figsize=(15,9),gridspec_kw={\"height_ratios\": (.15, .85)})\n",
        " \n",
        "seaborn.boxplot(df.volumen, ax=ax_box)\n",
        "seaborn.distplot(df.volumen, ax=ax_hist, kde=False, hist=False)\n",
        "seaborn.distplot(df.volumen, ax=ax_hist, kde=True, hist=True,norm_hist=False)\n",
        "\n",
        "plt.axvline(df.volumen.quantile(0.25))\n",
        "plt.axvline(df.volumen.quantile(0.50),color='g')\n",
        "plt.axvline(df.volumen.quantile(0.75))\n",
        "plt.ticklabel_format(style='plain', axis='x') \n",
        "plt.axvline(df.volumen.mean(),color='red') \n",
        "ax_box.set_title\n",
        "plt.show()"
      ],
      "execution_count": null,
      "outputs": []
    },
    {
      "cell_type": "markdown",
      "metadata": {
        "id": "Xcx3MXkHg509"
      },
      "source": [
        "#### Filtrado de registros con códigos de error\n",
        "\n",
        "Quitamos aquellos registros que contengan códigos de error. Para esto, separamos la columna `codigo` en dos campos, ya que la misma contiene además información de la cantidad de ecos.\n",
        "\n",
        "Se deja la [documentación](https://drive.google.com/file/d/1IURbnJ3305CLaJSrvjP2E7_ab9mfdg6r/view) sobre los significados de estos códigos."
      ]
    },
    {
      "cell_type": "code",
      "metadata": {
        "id": "f-DTsqAGdLcx",
        "colab": {
          "base_uri": "https://localhost:8080/"
        },
        "outputId": "4557ecab-6bbd-4dd9-ecbc-ce80ea0ae921"
      },
      "source": [
        "df['codigo'].unique()"
      ],
      "execution_count": null,
      "outputs": [
        {
          "output_type": "execute_result",
          "data": {
            "text/plain": [
              "array(['N1', 'N2', 'F1', 'N0', 'V1', 'F0', 'm0', 'M1', 'F2', 'L1', 'V0',\n",
              "       'I2', 'V2', 'U2', 'L2', 'I1', 'U1', 'P1', 'I0', 'T1', 'P2', 'T0',\n",
              "       'M2', 'L0', 'L3', 'V6', 'V5', 'V3', 'L4', 'V4', 'N3', 'm1', 'N4',\n",
              "       'U5', 'L6', 'L5', 'L7', 'L8', 'N8', 'L9', 'V8', 'V9', 'V7', 'N5',\n",
              "       'N7', 'U8', 'N9', 'N6', 'U3', 'U7', 'U6', 'U9', 'U0', '01', 'U4',\n",
              "       'M0', 'P0', 'F9'], dtype=object)"
            ]
          },
          "metadata": {
            "tags": []
          },
          "execution_count": 84
        }
      ]
    },
    {
      "cell_type": "code",
      "metadata": {
        "id": "7g2ObslFchS6"
      },
      "source": [
        "# Separamos el código en dos datos\n",
        "df['c'] = df['codigo'].apply(lambda x: str(x)[0])\n",
        "df['echoes'] = pd.to_numeric(df['codigo'].apply(lambda x: str(x)[1]), errors='coerce')"
      ],
      "execution_count": null,
      "outputs": []
    },
    {
      "cell_type": "markdown",
      "metadata": {
        "id": "UwBgatKpPv7P"
      },
      "source": [
        "Veamos si quitar los valores con códigos de error obtenemos los mismos resultados que mantener los valores con códigos correctos."
      ]
    },
    {
      "cell_type": "code",
      "metadata": {
        "id": "m4k4bmBCZpHt"
      },
      "source": [
        "ok_codes = ['N', 'L', 'V', 'U', 'P', 'T', 'A', 'I', '0']\n",
        "error_codes = ['m', 'M', 'F']"
      ],
      "execution_count": null,
      "outputs": []
    },
    {
      "cell_type": "code",
      "metadata": {
        "id": "VjT4Oh0coTuX",
        "colab": {
          "base_uri": "https://localhost:8080/"
        },
        "outputId": "90e1cebc-0972-437c-a26e-84554784ff27"
      },
      "source": [
        "# Obtenemos el mismo resultado?\n",
        "print(\"Manteniendo los valores correctos:\", len(df.query(\"c not in @ok_codes\")))\n",
        "print(\"Quitando los valores de error:\", len(df.query(\"c in @error_codes\")))"
      ],
      "execution_count": null,
      "outputs": [
        {
          "output_type": "stream",
          "text": [
            "Manteniendo los valores correctos: 1918238\n",
            "Quitando los valores de error: 1918238\n"
          ],
          "name": "stdout"
        }
      ]
    },
    {
      "cell_type": "markdown",
      "metadata": {
        "id": "cxQfVyOVZxyX"
      },
      "source": [
        "Obtenemos los mismo resultado, elegimos uno de ellos."
      ]
    },
    {
      "cell_type": "code",
      "metadata": {
        "id": "RPM1-EI9ZZmg",
        "colab": {
          "base_uri": "https://localhost:8080/"
        },
        "outputId": "9393a227-ccab-4a38-c415-31db3835ecc9"
      },
      "source": [
        "df = df.query(\"c in @ok_codes\")\n",
        "len(df)"
      ],
      "execution_count": null,
      "outputs": [
        {
          "output_type": "execute_result",
          "data": {
            "text/plain": [
              "7616976"
            ]
          },
          "metadata": {
            "tags": []
          },
          "execution_count": 19
        }
      ]
    },
    {
      "cell_type": "markdown",
      "metadata": {
        "id": "cbs91dAfhBJN"
      },
      "source": [
        "#### Filtrado de registros con ecos cero y ecos mayores a dos\n",
        "\n",
        "La cantidad de ecos corresponde a la cantidad de señales recibidas en el transmisor de la sonda.\n",
        "\n",
        "Si el valor es cero, puede haber ocurrido dos cosas:\n",
        "- Son sondas de presión, es decir, este tipo de sondas funcionan de manera distinta y la cantidad de ecos no corresponde (ya que no los tiene). Esta tecnología no es tan precisa y se encuentra obsoleta.\n",
        "- Los datos enviados son erróneos.\n",
        "\n",
        "Decidimos filtrar estos valores."
      ]
    },
    {
      "cell_type": "code",
      "metadata": {
        "id": "_kUjs3d6b21y",
        "colab": {
          "base_uri": "https://localhost:8080/"
        },
        "outputId": "ee4c9e58-3aa6-4ef2-ff85-22ba803de3ba"
      },
      "source": [
        "df = df.query(\"echoes != 0\")\n",
        "len(df)"
      ],
      "execution_count": null,
      "outputs": [
        {
          "output_type": "execute_result",
          "data": {
            "text/plain": [
              "7559472"
            ]
          },
          "metadata": {
            "tags": []
          },
          "execution_count": 20
        }
      ]
    },
    {
      "cell_type": "markdown",
      "metadata": {
        "id": "SIDt_EF9RTMq"
      },
      "source": [
        "Los ecos mayores a dos son erróneos, ya que actualmente la cantidad de mediciones que se realizan son una o dos. Si reporta dos ecos, la sonda, además de medir el líquido principal (generalmente combustible), mide agua."
      ]
    },
    {
      "cell_type": "code",
      "metadata": {
        "id": "9NP_H6vBRSW0",
        "colab": {
          "base_uri": "https://localhost:8080/"
        },
        "outputId": "7f7904a3-9f9d-492a-f88b-af62456230e0"
      },
      "source": [
        "df = df.query(\"echoes <= 2\")\n",
        "len(df)"
      ],
      "execution_count": null,
      "outputs": [
        {
          "output_type": "execute_result",
          "data": {
            "text/plain": [
              "7557701"
            ]
          },
          "metadata": {
            "tags": []
          },
          "execution_count": 21
        }
      ]
    },
    {
      "cell_type": "markdown",
      "metadata": {
        "id": "gU3DnvfPhHi3"
      },
      "source": [
        "#### Filtrado por pérdida de ecos en un mismo tanque\n",
        "Cuando se pierden señales de eco en sondas que sólo miden un líquido, el código mostrará valores ceros durante esas pérdidas. Pero, ¿qué sucede si la sonda mide dos líquidos y pierde una de las señales? La sonda reportará un valor normal (uno), pero que resulta incorrecto para esta sonda.\n",
        "\n",
        "No podemos solamente limitarnos a filtrar aquellos con ecos cero, debemos además quitar aquellos que debían ser dos y fue sólo una. Este análisis debe hacerse por tanque.\n"
      ]
    },
    {
      "cell_type": "code",
      "metadata": {
        "id": "6GZ67nLgCX2b"
      },
      "source": [
        "# Guardamos la cantidad de ecos/mediciones que tiene ese tanque.\n",
        "df['max_echoes'] = df.groupby('id_tanque')['echoes'].transform('max')"
      ],
      "execution_count": null,
      "outputs": []
    },
    {
      "cell_type": "code",
      "metadata": {
        "id": "rHdbkDSjCUPZ",
        "colab": {
          "base_uri": "https://localhost:8080/"
        },
        "outputId": "46839364-8850-4ee2-8cda-75b48d028c1c"
      },
      "source": [
        "df = df.query(\"echoes == max_echoes\")\n",
        "len(df)"
      ],
      "execution_count": null,
      "outputs": [
        {
          "output_type": "execute_result",
          "data": {
            "text/plain": [
              "7141502"
            ]
          },
          "metadata": {
            "tags": []
          },
          "execution_count": 23
        }
      ]
    },
    {
      "cell_type": "markdown",
      "metadata": {
        "id": "dlpYXTtACYM9"
      },
      "source": [
        "#### Filtrado por rango intercuartílico en el tiempo\n",
        "Una técnica conocida para la eliminación de outliers es el uso de la mediana móvil y los rangos intercuartílicos del `volumen` en ventanas de tiempo.\n",
        "\n",
        "A diferencia del uso de la media móvil, la mediana parece ser más precisa en cuanto a eliminación de outliers, ya que la primera es más sensible a los valores extremos.\n",
        "\n",
        "Primero debemos hacer que el `timestamp` sea nuestro nuevo index para poder aplicar ventanas de tiempo."
      ]
    },
    {
      "cell_type": "code",
      "metadata": {
        "id": "2hhmpfw_Yr6z"
      },
      "source": [
        "df.set_index(pd.DatetimeIndex(df['timestamp']), inplace=True)\n",
        "df.sort_index(inplace=True)"
      ],
      "execution_count": null,
      "outputs": []
    },
    {
      "cell_type": "markdown",
      "metadata": {
        "id": "w-94JQXs9jA6"
      },
      "source": [
        "Veamos la distribución de las diferencias de tiempo entre datos para determinar una ventana de tiempo."
      ]
    },
    {
      "cell_type": "code",
      "metadata": {
        "id": "NaasleoJ9r-D"
      },
      "source": [
        ""
      ],
      "execution_count": null,
      "outputs": []
    },
    {
      "cell_type": "markdown",
      "metadata": {
        "id": "MsLqzlDx6u_G"
      },
      "source": [
        "Calculamos la mediana móvil y los cuantiles 0.25 y 0.75 de la muestra."
      ]
    },
    {
      "cell_type": "code",
      "metadata": {
        "id": "-e6YeU2WqBOU"
      },
      "source": [
        "window = '2T'\n",
        "df['moving_median'] = df.groupby('id_tanque')['volumen'].transform(\n",
        "    lambda x: x.rolling(window, min_periods=2).median()\n",
        ")\n",
        "df['q1'] = df.groupby('id_tanque')['volumen'].transform(\n",
        "    lambda x: x.rolling(window, min_periods=2).quantile(0.25)\n",
        ")\n",
        "df['q3'] = df.groupby('id_tanque')['volumen'].transform(\n",
        "    lambda x: x.rolling(window, min_periods=2).quantile(0.75)\n",
        ")\n",
        "df['RI'] = df['q3'] - df['q1']\n",
        "df['RI_min'] = df['q1'] - 1.5*df['RI']\n",
        "df['RI_max'] = df['q3'] + 1.5*df['RI']"
      ],
      "execution_count": null,
      "outputs": []
    },
    {
      "cell_type": "markdown",
      "metadata": {
        "id": "VG8eeaLMDuv1"
      },
      "source": [
        "Veamos algún ejemplo en donde se encuentren puntos fuera de estos rangos."
      ]
    },
    {
      "cell_type": "code",
      "metadata": {
        "colab": {
          "base_uri": "https://localhost:8080/",
          "height": 149
        },
        "id": "sslvyugsrZll",
        "outputId": "f0d7cae9-706a-418c-e292-5c87afa8e546"
      },
      "source": [
        "# Tomamos una muestra aleatoria\n",
        "point_sample = df.query(\"volumen < RI_min\").sample()\n",
        "\n",
        "id_tanque = point_sample.iloc[0]['id_tanque']\n",
        "timestamp = point_sample.iloc[0]['timestamp']\n",
        "\n",
        "offset_timestamp = pd.DateOffset(hours=2)\n",
        "before = str(timestamp - offset_timestamp)\n",
        "after = str(timestamp + offset_timestamp)\n",
        "\n",
        "point_sample"
      ],
      "execution_count": null,
      "outputs": [
        {
          "output_type": "execute_result",
          "data": {
            "text/html": [
              "<div>\n",
              "<style scoped>\n",
              "    .dataframe tbody tr th:only-of-type {\n",
              "        vertical-align: middle;\n",
              "    }\n",
              "\n",
              "    .dataframe tbody tr th {\n",
              "        vertical-align: top;\n",
              "    }\n",
              "\n",
              "    .dataframe thead th {\n",
              "        text-align: right;\n",
              "    }\n",
              "</style>\n",
              "<table border=\"1\" class=\"dataframe\">\n",
              "  <thead>\n",
              "    <tr style=\"text-align: right;\">\n",
              "      <th></th>\n",
              "      <th>id</th>\n",
              "      <th>id_equipo</th>\n",
              "      <th>id_tanque</th>\n",
              "      <th>volumen</th>\n",
              "      <th>temperatura</th>\n",
              "      <th>codigo</th>\n",
              "      <th>vbat1</th>\n",
              "      <th>vbat2</th>\n",
              "      <th>fuel_level_dmm</th>\n",
              "      <th>water_level_dmm</th>\n",
              "      <th>water_volume_lts</th>\n",
              "      <th>producto</th>\n",
              "      <th>temp5</th>\n",
              "      <th>temp4</th>\n",
              "      <th>temp3</th>\n",
              "      <th>temp2</th>\n",
              "      <th>temp1</th>\n",
              "      <th>id_empresa</th>\n",
              "      <th>current_firmware</th>\n",
              "      <th>id_canal</th>\n",
              "      <th>id_industria</th>\n",
              "      <th>industria</th>\n",
              "      <th>capacidad</th>\n",
              "      <th>alarma</th>\n",
              "      <th>nombre_producto</th>\n",
              "      <th>coef_var_vol</th>\n",
              "      <th>density</th>\n",
              "      <th>c</th>\n",
              "      <th>echoes</th>\n",
              "      <th>max_echoes</th>\n",
              "      <th>moving_median</th>\n",
              "      <th>q1</th>\n",
              "      <th>q3</th>\n",
              "      <th>RI</th>\n",
              "      <th>RI_min</th>\n",
              "      <th>RI_max</th>\n",
              "    </tr>\n",
              "    <tr>\n",
              "      <th>timestamp</th>\n",
              "      <th></th>\n",
              "      <th></th>\n",
              "      <th></th>\n",
              "      <th></th>\n",
              "      <th></th>\n",
              "      <th></th>\n",
              "      <th></th>\n",
              "      <th></th>\n",
              "      <th></th>\n",
              "      <th></th>\n",
              "      <th></th>\n",
              "      <th></th>\n",
              "      <th></th>\n",
              "      <th></th>\n",
              "      <th></th>\n",
              "      <th></th>\n",
              "      <th></th>\n",
              "      <th></th>\n",
              "      <th></th>\n",
              "      <th></th>\n",
              "      <th></th>\n",
              "      <th></th>\n",
              "      <th></th>\n",
              "      <th></th>\n",
              "      <th></th>\n",
              "      <th></th>\n",
              "      <th></th>\n",
              "      <th></th>\n",
              "      <th></th>\n",
              "      <th></th>\n",
              "      <th></th>\n",
              "      <th></th>\n",
              "      <th></th>\n",
              "      <th></th>\n",
              "      <th></th>\n",
              "      <th></th>\n",
              "    </tr>\n",
              "  </thead>\n",
              "  <tbody>\n",
              "    <tr>\n",
              "      <th>2021-02-23 00:44:05</th>\n",
              "      <td>532581</td>\n",
              "      <td>900</td>\n",
              "      <td>102641</td>\n",
              "      <td>1230.12</td>\n",
              "      <td>24.41</td>\n",
              "      <td>N1</td>\n",
              "      <td>67</td>\n",
              "      <td>303</td>\n",
              "      <td>1779.00</td>\n",
              "      <td>0.00</td>\n",
              "      <td>0.00</td>\n",
              "      <td>0</td>\n",
              "      <td>24.41</td>\n",
              "      <td>24.80</td>\n",
              "      <td>25.00</td>\n",
              "      <td>24.91</td>\n",
              "      <td>25.20</td>\n",
              "      <td>1105</td>\n",
              "      <td>V71107WFc20d77c</td>\n",
              "      <td>7</td>\n",
              "      <td>6.00</td>\n",
              "      <td>Service Station</td>\n",
              "      <td>20250.00</td>\n",
              "      <td>True</td>\n",
              "      <td>Nafta Super</td>\n",
              "      <td>0.00</td>\n",
              "      <td>0.68</td>\n",
              "      <td>N</td>\n",
              "      <td>1</td>\n",
              "      <td>1.00</td>\n",
              "      <td>1230.76</td>\n",
              "      <td>1230.76</td>\n",
              "      <td>1230.76</td>\n",
              "      <td>0.00</td>\n",
              "      <td>1230.76</td>\n",
              "      <td>1230.76</td>\n",
              "    </tr>\n",
              "  </tbody>\n",
              "</table>\n",
              "</div>"
            ],
            "text/plain": [
              "                         id id_equipo id_tanque  ...   RI  RI_min  RI_max\n",
              "timestamp                                        ...                     \n",
              "2021-02-23 00:44:05  532581       900    102641  ... 0.00 1230.76 1230.76\n",
              "\n",
              "[1 rows x 36 columns]"
            ]
          },
          "metadata": {
            "tags": []
          },
          "execution_count": 26
        }
      ]
    },
    {
      "cell_type": "code",
      "metadata": {
        "id": "DyAWQrsj1RRP"
      },
      "source": [
        "sample = df.query(\"\"\"\n",
        "    id_tanque == @id_tanque \\\n",
        "    and timestamp > @before \\\n",
        "    and timestamp < @after\n",
        "\"\"\")\n",
        "sample_outlier = df.query(\"\"\"\n",
        "    id_tanque == @id_tanque \\\n",
        "    and timestamp > @before \\\n",
        "    and timestamp < @after \\\n",
        "    and (volumen < RI_min or volumen > RI_max)\n",
        "\"\"\")"
      ],
      "execution_count": null,
      "outputs": []
    },
    {
      "cell_type": "code",
      "metadata": {
        "id": "bkX6ooeOuB8W",
        "colab": {
          "base_uri": "https://localhost:8080/",
          "height": 446
        },
        "outputId": "b0254a55-39bb-4bff-ffc8-977e4cf77084"
      },
      "source": [
        "fig = plt.figure(figsize=(15, 7))\n",
        "seaborn.lineplot(\n",
        "    data=sample, y='RI_min', x='timestamp',\n",
        "    label='RI min', color='lightgray' \n",
        ")\n",
        "seaborn.lineplot(\n",
        "    data=sample, y='RI_max', x='timestamp', \n",
        "    label='RI max',  color='lightgray' \n",
        ")\n",
        "seaborn.lineplot(\n",
        "    data=sample, y='volumen', x='timestamp',\n",
        "    label='volumen'\n",
        ")\n",
        "seaborn.lineplot(\n",
        "    data=sample, y='moving_median', x='timestamp',\n",
        "    label='Mediana móvil'\n",
        ")\n",
        "seaborn.scatterplot(\n",
        "    data=sample_outlier, y='volumen', x='timestamp',\n",
        "    label='Outliers',\n",
        ")\n",
        "plt.title(f'Inventario del tanque {id_tanque}')\n",
        "plt.ticklabel_format(style='plain', axis='y')\n",
        "seaborn.despine()"
      ],
      "execution_count": null,
      "outputs": [
        {
          "output_type": "display_data",
          "data": {
            "image/png": "[encoded data removed]",
            "text/plain": [
              "<Figure size 1080x504 with 1 Axes>"
            ]
          },
          "metadata": {
            "tags": [],
            "needs_background": "light"
          }
        }
      ]
    },
    {
      "cell_type": "markdown",
      "metadata": {
        "id": "x9oS1Jg-R-Bf"
      },
      "source": [
        "Quitamos entonces los valores que superen el 1.5 veces el rango intercuarílico por ambos extremos."
      ]
    },
    {
      "cell_type": "code",
      "metadata": {
        "id": "5dm_RC7yR9bu",
        "colab": {
          "base_uri": "https://localhost:8080/"
        },
        "outputId": "b7b1e848-13f4-49fc-d210-adc3171f324d"
      },
      "source": [
        "df = df.query(\"volumen >= RI_min\")\n",
        "df = df.query(\"volumen <= RI_max\")\n",
        "len(df)"
      ],
      "execution_count": null,
      "outputs": [
        {
          "output_type": "execute_result",
          "data": {
            "text/plain": [
              "6893287"
            ]
          },
          "metadata": {
            "tags": []
          },
          "execution_count": 30
        }
      ]
    },
    {
      "cell_type": "markdown",
      "metadata": {
        "id": "YADM5LJmeBPK"
      },
      "source": [
        "Comparamos nuestra muestra antes y después de la eliminación de los puntos."
      ]
    },
    {
      "cell_type": "code",
      "metadata": {
        "id": "PYn5WyOi3Pv6"
      },
      "source": [
        "sample_filtered = df.query(\"\"\"\n",
        "    id_tanque == @id_tanque \\\n",
        "    and timestamp > @before \\\n",
        "    and timestamp < @after\n",
        "\"\"\")"
      ],
      "execution_count": null,
      "outputs": []
    },
    {
      "cell_type": "code",
      "metadata": {
        "colab": {
          "base_uri": "https://localhost:8080/",
          "height": 446
        },
        "id": "q63q2jf2rtTK",
        "outputId": "b72aface-e802-4aca-cb75-40a93c3593d8"
      },
      "source": [
        "fig, axes = plt.subplots(3, 1, sharex=True, sharey=True, figsize=(15, 7))\n",
        "seaborn.lineplot(\n",
        "    data=sample, y='volumen', x='timestamp',\n",
        "    label='volumen', ax=axes[0]\n",
        ")\n",
        "seaborn.lineplot(\n",
        "    data=sample_filtered, y='volumen', x='timestamp',\n",
        "    label='volumen', ax=axes[1]\n",
        ")\n",
        "seaborn.scatterplot(\n",
        "    data=sample_outlier, y='volumen', x='timestamp',\n",
        "    label='volumen', color='crimsom', ax=axes[2]\n",
        ")\n",
        "axes[0].set_title(f'Tanque {id_tanque} antes del filtrado')\n",
        "axes[1].set_title(f'Tanque {id_tanque} después del filtrado')\n",
        "axes[2].set_title(f'Outliers eliminados del tanque {id_tanque}')\n",
        "plt.ticklabel_format(style='plain', axis='y')\n",
        "seaborn.despine()"
      ],
      "execution_count": null,
      "outputs": [
        {
          "output_type": "display_data",
          "data": {
            "image/png": "[encoded data removed]",
            "text/plain": [
              "<Figure size 1080x504 with 2 Axes>"
            ]
          },
          "metadata": {
            "tags": [],
            "needs_background": "light"
          }
        }
      ]
    },
    {
      "cell_type": "markdown",
      "metadata": {
        "id": "WYD9ux637UnB"
      },
      "source": [
        "#### Filtrado de tanques con pocos datos"
      ]
    },
    {
      "cell_type": "code",
      "metadata": {
        "id": "PCflsX7z7YOp"
      },
      "source": [
        ""
      ],
      "execution_count": null,
      "outputs": []
    },
    {
      "cell_type": "markdown",
      "metadata": {
        "id": "QzCYizyKS1ag"
      },
      "source": [
        "### Análisis de correlación entre las variables numéricas"
      ]
    },
    {
      "cell_type": "code",
      "metadata": {
        "id": "phQpWwsAoTTP"
      },
      "source": [
        "df_cor = df.corr(method=\"spearman\")\n",
        "df_cor"
      ],
      "execution_count": null,
      "outputs": []
    },
    {
      "cell_type": "code",
      "metadata": {
        "id": "JtrNhIfdodVB"
      },
      "source": [
        "plt.figure(figsize=(15,15))\n",
        "seaborn.heatmap(df_cor, cbar = True,  square = True, annot=True, fmt= '.2f',annot_kws={'size': 15},\n",
        "           cmap= 'coolwarm')\n",
        "plt.xticks(rotation = 45)\n",
        "plt.yticks(rotation = 45)\n",
        "plt.show()"
      ],
      "execution_count": null,
      "outputs": []
    },
    {
      "cell_type": "markdown",
      "metadata": {
        "id": "fDo3cVf6UWvr"
      },
      "source": [
        "A partir del análisis de correlación entre las variables numéricas de nuestro dataset, pudimos observar una correlación alta entre las variables de temperatura ($r > 0.7$). Debido a que la feature temperatura representa los mismos valores que la feature `temp5`, sumado a que es la que indica la `temperatura` del combustible (a diferencia de las `temp1`, `temp2`, `temp3` y `temp4`) decidimos quedarnos con esta variable y desechar las otras. Por otra parte, observamos un alta correlación entre volumen y nivel de combustible ($r= 0.92$), que es lo que se espera ya que la variable volumen se calcula a partir de la variable nivel de combustible (`fuel_level_dmm`). De hecho, esperaríamos obtener una correlación igual a uno, sin embargo esta diferencia en el nivel de correlación podría deberse a un error de cálculo a partir de la tabla de calibración. En este caso, nos quedaríamos con la variable volumen ya que es la que nos aporta la información necesaria para responder a las preguntas planteadas. Por último, existe una correlación alta entre `volumen` y `capacidad` ($r = 0.82$), lo cual es esperable, sin embargo la variable `capacidad` nos provee información que la variable `valumen` no nos da, por lo que decidimos mantenerla en nuestro dataset por el momento."
      ]
    },
    {
      "cell_type": "markdown",
      "metadata": {
        "id": "ZLTntE4yxKic"
      },
      "source": [
        "### Comparacion de variables"
      ]
    },
    {
      "cell_type": "markdown",
      "metadata": {
        "id": "7PyFyWXH9_nQ"
      },
      "source": [
        "#### Distribución de los valores de temperatura\n",
        "\n",
        "Las sondas contienen sensores de temperatura ubicados a distintas alturas. Estos sensores se corresponden con las columnas `temp1`, `temp2`, `temp3`, `temp4`, `temp5`, siendo la primera (`temp1`) la que se encuentra más arriba y la última (`temp5`) la que se encuentra más cerca del fondo del tanque. Estas alturas no son equidistantes y no todas las sondas contienen todos los sensores, pero sabemos que al menos la última (`temp5`) siempre está presente en la sonda.\n",
        "\n",
        "La columna `temperatura` es una copia de la columna `temp5`.\n",
        "\n",
        "Además, el valor -56.6 nos indica que el sensor de esa temperatura no funciona correctamente o no está presente en la sonda."
      ]
    },
    {
      "cell_type": "code",
      "metadata": {
        "id": "Ao6oGI7v9_Am"
      },
      "source": [
        "fig = plt.figure(figsize=(15, 7))\n",
        "seaborn.boxplot(\n",
        "    data=df[['temp1', 'temp2', 'temp3', 'temp4', 'temp5', 'temperatura']],\n",
        "    color='lightblue'\n",
        ")\n",
        "plt.ticklabel_format(style='plain', axis='y')\n",
        "seaborn.despine()"
      ],
      "execution_count": null,
      "outputs": []
    },
    {
      "cell_type": "markdown",
      "metadata": {
        "id": "Agg7VjOC-T4e"
      },
      "source": [
        "#### Distribución de las capacidades\n",
        "\n"
      ]
    },
    {
      "cell_type": "code",
      "metadata": {
        "id": "UyLuC41A-UDC"
      },
      "source": [
        "fig = plt.figure(figsize=(15, 7))\n",
        "seaborn.displot(\n",
        "    data=df.groupby('id_tanque').first()['capacidad'],\n",
        "    kde=True\n",
        ")\n",
        "plt.ticklabel_format(style='plain', axis='y')\n",
        "seaborn.despine("
      ],
      "execution_count": null,
      "outputs": []
    },
    {
      "cell_type": "markdown",
      "metadata": {
        "id": "ouExsvDu-ccS"
      },
      "source": [
        "Se puede observar una distribución multimodal."
      ]
    },
    {
      "cell_type": "markdown",
      "metadata": {
        "id": "nCrfp_vqpBbJ"
      },
      "source": [
        "### Selección de columnas relevantes\n",
        "\n",
        "Una vez explorado nuestro dataset, viendo las correlaciones entre ellas y las distribuciones, eliminamos columnas que no serán relevantes para los siguientes análisis."
      ]
    },
    {
      "cell_type": "code",
      "metadata": {
        "id": "qqfPmzhUpp8G"
      },
      "source": [
        "df.drop(columns=['id', 'alarma', 'density'], inplace=True)"
      ],
      "execution_count": null,
      "outputs": []
    },
    {
      "cell_type": "markdown",
      "metadata": {
        "id": "9eFLY1tzVPQc"
      },
      "source": [
        "### Uniformidad de tiempo de los datos\n",
        "\n",
        "A partir del siguiente análisis buscamos detectar gaps temporales entre muestras. El código presenta todos aquellos tanques (id_tanques) que presentan gaps entre muestras con más de 1 hora, junto a la media de los gaps y el desvío stándar. Oportunamente ajustaremos el gaps buscado en función de la frecuencia mínima requerida para la predección. "
      ]
    },
    {
      "cell_type": "code",
      "metadata": {
        "id": "MBgnP2rXVaWI"
      },
      "source": [
        "#se arma un array con los id_tanque\n",
        "tanques_unique=df.id_tanque.unique()\n",
        "for tanque in tanques_unique:\n",
        "    # Tomar la diferencia del timestamp y no tener en cuenta la primer fila ya que no tiene diff hacia atrás\n",
        "    deltas = df[df['id_tanque']==tanque].timestamp.diff()[1:]\n",
        "\n",
        "    # Filtrar diffs mayores al valor introducido (pueden ser dias, horas, minutos, etc) \n",
        "    gaps = deltas[deltas > timedelta(hours=1)]\n",
        "\n",
        "    #Resultados\n",
        "    if len(gaps) != 0:\n",
        "        print(f'Tanque ID:{tanque} tiene {len(gaps)} gaps con duración promedio: {gaps.mean()} y std: {gaps.std()}')\n",
        "        #descomentar para ampliar información de los gaps\n",
        "        #for i, g in gaps.iteritems():\n",
        "        #    gap_start = df['timestamp'][i - 1]\n",
        "        #    print(f'Start: {datetime.strftime(gap_start, \"%Y-%m-%d\")} | '\n",
        "        #          f'Duration: {str(g.to_pytimedelta())}')"
      ],
      "execution_count": null,
      "outputs": []
    },
    {
      "cell_type": "markdown",
      "metadata": {
        "id": "6qd5H9kLVaml"
      },
      "source": [
        "### Resampling del timeseries\n",
        "\n",
        "Planteamos el resampleo de series de tiempo sobre distintas ventanas y distintos métodos. Se verá en mayor profundidad este tratamiento, en el práctico de curación."
      ]
    },
    {
      "cell_type": "code",
      "metadata": {
        "id": "X9lLM2dLVfc-"
      },
      "source": [
        "# 10 minutos\n",
        "tanque_resampled = tanque.resample('10T').bfill()\n",
        "tanque_resampled"
      ],
      "execution_count": null,
      "outputs": []
    },
    {
      "cell_type": "code",
      "metadata": {
        "id": "X2C77p8OWCnc"
      },
      "source": [
        "fig = plt.figure(figsize=(15, 7))\n",
        "seaborn.lineplot(\n",
        "    data=tanque_resampled[1400:1500], \n",
        "    y='volumen', \n",
        "    x='timestamp' \n",
        ")\n",
        "plt.ticklabel_format(style='plain', axis='y')\n",
        "seaborn.despine()"
      ],
      "execution_count": null,
      "outputs": []
    },
    {
      "cell_type": "markdown",
      "metadata": {
        "id": "SBssMDqgHB8p"
      },
      "source": [
        "### Agrupación de inventarios\n",
        "\n",
        "Para poder visualizar correctamente un inventario en el tiempo es necesario poder separar los registros por tanque (o sonda) ya que cada registro es completamente independiente del resto de los casos.\n",
        "\n",
        "Filtramos uno de los tanques por `id_tanque` y lo visualizamos."
      ]
    },
    {
      "cell_type": "code",
      "metadata": {
        "id": "jTkiiFrmdDG6"
      },
      "source": [
        "sample_tank = df.query(\"\"\"\n",
        "    id_tanque == '1014' \\\n",
        "    and timestamp > '2021-01-01' \\\n",
        "    and timestamp < '2021-01-02'\n",
        "\"\"\")"
      ],
      "execution_count": null,
      "outputs": []
    },
    {
      "cell_type": "code",
      "metadata": {
        "id": "aVRVDXz0FTcq"
      },
      "source": [
        "fig = plt.figure(figsize=(15, 5))\n",
        "seaborn.lineplot(\n",
        "    data=sample_tank, y='volumen', x='timestamp', \n",
        "    label='volumen'\n",
        ")\n",
        "plt.title(f'Inventario del tanque 1014')\n",
        "plt.ticklabel_format(style='plain', axis='y')\n",
        "seaborn.despine()"
      ],
      "execution_count": null,
      "outputs": []
    },
    {
      "cell_type": "markdown",
      "metadata": {
        "id": "RZb49jE3GHmq"
      },
      "source": [
        "Otras agrupaciones que pueden resultar útiles al momento de analizar características del dataset pueden ser por `producto`, `id_equipo`, `id_industria`, `id_canal`, rango de `capacidad`es."
      ]
    },
    {
      "cell_type": "markdown",
      "metadata": {
        "id": "4SOjpBQsVezH"
      },
      "source": [
        "### Normalización de valores\n",
        "\n",
        "Para poder realizar algunas operaciones es necesario normalizar algunas de estas columnas. Se dejan algunas de ellas, las cuales serán cubiertas en profundidad en el trabajo de curación de datos."
      ]
    },
    {
      "cell_type": "markdown",
      "metadata": {
        "id": "TYp0r0FqMYfp"
      },
      "source": [
        "#### Ajuste del `volumen` por dilatación térmica\n",
        "\n",
        "El volumen aumenta o disminuye debido la **dilatación térmica**. Esta relación viene dada por:\n",
        "\n",
        "<center>\n",
        "$\\alpha = {\\Delta V\\over V_0 \\Delta T}$\n",
        "</center>\n",
        "\n",
        "donde:\n",
        "- $T$ es la `temperatura`.\n",
        "- $V$ es el `volumen`.\n",
        "\n",
        "Este ajuste se realiza entonces comepensando el volumen a una temperatura seleccionada:\n",
        "\n",
        "<center>\n",
        "$V_f=\\alpha*V_0*(T_f-T_0)$\n",
        "</center>\n",
        "\n",
        "donde:\n",
        "- $T_0$ y $V_0$ son la `temperatura` y `volumen` registrados.\n",
        "- $T_f$ es la temperatura a la cual compensar.\n",
        "- $V_f$ es el volumen compensado.\n"
      ]
    },
    {
      "cell_type": "markdown",
      "metadata": {
        "id": "-6L8XoDuMegL"
      },
      "source": [
        "\n",
        "#### Ajuste del `volumen` restando volumen de agua (`water_volume_lts`)\n",
        "\n",
        "Si las sondas contienen dos boyas de medición, el `volumen` de combustible se ve afectado por la segunda medición (agua). Esto se puede ajustar restando el volumen del agua al volumen del combustible.\n",
        "\n",
        "Adicionalmente el agua también puede ser ajustado por **dilatación térmica**."
      ]
    },
    {
      "cell_type": "markdown",
      "metadata": {
        "id": "4OIBtS8YfPzX"
      },
      "source": [
        "## Análisis\n",
        "\n",
        "Para esta etapa se procede a analizar los distintos inventarios agrupándolos por diferentes criterios."
      ]
    },
    {
      "cell_type": "markdown",
      "metadata": {
        "id": "O9Ybfda4Eq4T"
      },
      "source": [
        "### Descriptores estadísticos de los inventarios"
      ]
    },
    {
      "cell_type": "code",
      "metadata": {
        "id": "eSlD0qTy5r1y"
      },
      "source": [
        ""
      ],
      "execution_count": null,
      "outputs": []
    },
    {
      "cell_type": "markdown",
      "metadata": {
        "id": "y4YWNXf4EKzA"
      },
      "source": [
        "### Inventarios sobre centros operativos\n",
        "\n",
        "Se seleccionan algunos centros operativos para analizar el comportamiento de sus inventarios. Para esto, realizamos una selección aleatoria de la columna `id_equipo`."
      ]
    },
    {
      "cell_type": "code",
      "metadata": {
        "id": "5tmYl_N0EfM6"
      },
      "source": [
        ""
      ],
      "execution_count": null,
      "outputs": []
    },
    {
      "cell_type": "markdown",
      "metadata": {
        "id": "RDiRSPF1EhF1"
      },
      "source": [
        "### Patrones de manejo de inventario por industria"
      ]
    },
    {
      "cell_type": "code",
      "metadata": {
        "id": "70pPNpZdEnoI"
      },
      "source": [
        "df_ind=df[[\"volumen\", \"industria\"]].groupby(\"industria\").describe()\n",
        "df_ind"
      ],
      "execution_count": null,
      "outputs": []
    },
    {
      "cell_type": "code",
      "metadata": {
        "id": "QmDqrO1S277x"
      },
      "source": [
        "df_ind.columns = df_ind.columns.droplevel(level=0)\n",
        "df_ind.sort_values(by='50%',ascending=False)"
      ],
      "execution_count": null,
      "outputs": []
    },
    {
      "cell_type": "code",
      "metadata": {
        "id": "dCb6OAdG6mrD"
      },
      "source": [
        "plt.figure(figsize=(12,6))\n",
        "seaborn.boxplot(data=df, x=\"industria\", y=\"volumen\")"
      ],
      "execution_count": null,
      "outputs": []
    },
    {
      "cell_type": "code",
      "metadata": {
        "id": "H21Z60bP3kUZ"
      },
      "source": [
        "#Por hora"
      ],
      "execution_count": null,
      "outputs": []
    },
    {
      "cell_type": "code",
      "metadata": {
        "id": "LlBc3WZTDZWp"
      },
      "source": [
        "df_ind_resa=df.groupby(\"industria\").resample(\"1H\", on=\"timestamp\").mean().reset_index()\n",
        "df_ind_resa\n"
      ],
      "execution_count": null,
      "outputs": []
    },
    {
      "cell_type": "code",
      "metadata": {
        "id": "GU2gx3ErdCR5"
      },
      "source": [
        "df_ind_resa=df_ind_resa[(df_ind_resa[\"timestamp\"] > \"2021-01-01\") & (df_ind_resa[\"timestamp\"] < \"2021-01-05\")]\n",
        "plt.figure(figsize=(15,15))\n",
        "seaborn.lineplot(data=df_ind_resa, x=\"timestamp\", y=\"volumen\", hue=\"industria\")"
      ],
      "execution_count": null,
      "outputs": []
    },
    {
      "cell_type": "code",
      "metadata": {
        "id": "v-zYvRhmk7D1"
      },
      "source": [
        "#plt.figure(figsize=(15,15))\n",
        "#seaborn.lineplot(data=df_ind_resa.rolling(24, center=True).mean(), x=\"timestamp\", y=\"volumen\", hue=\"industria\")"
      ],
      "execution_count": null,
      "outputs": []
    },
    {
      "cell_type": "code",
      "metadata": {
        "id": "pUH2B3ED2rID"
      },
      "source": [
        "# Por día"
      ],
      "execution_count": null,
      "outputs": []
    },
    {
      "cell_type": "code",
      "metadata": {
        "id": "S3Vg14612tMd"
      },
      "source": [
        "df_ind_resa=df.groupby(\"industria\").resample(\"D\", on=\"timestamp\").mean().reset_index()\n",
        "df_ind_resa"
      ],
      "execution_count": null,
      "outputs": []
    },
    {
      "cell_type": "code",
      "metadata": {
        "id": "pEUFFb1P2zdf"
      },
      "source": [
        "df_ind_resa=df_ind_resa[(df_ind_resa[\"timestamp\"] > \"2021-01-01\") & (df_ind_resa[\"timestamp\"] < \"2021-01-10\")]\n"
      ],
      "execution_count": null,
      "outputs": []
    },
    {
      "cell_type": "code",
      "metadata": {
        "id": "6MzbwpWf29_V"
      },
      "source": [
        "plt.figure(figsize=(15,15))\n",
        "seaborn.lineplot(data=df_ind_resa, x=\"timestamp\", y=\"volumen\", hue=\"industria\")"
      ],
      "execution_count": null,
      "outputs": []
    },
    {
      "cell_type": "code",
      "metadata": {
        "id": "FP-_7tmO2_O3"
      },
      "source": [
        "# Por mes"
      ],
      "execution_count": null,
      "outputs": []
    },
    {
      "cell_type": "code",
      "metadata": {
        "id": "LKTc3t7m3J1T"
      },
      "source": [
        "df_ind_resa=df.groupby(\"industria\").resample(\"M\", on=\"timestamp\").mean().reset_index()\n",
        "df_ind_resa"
      ],
      "execution_count": null,
      "outputs": []
    },
    {
      "cell_type": "code",
      "metadata": {
        "id": "NbfxMmjy3OT5"
      },
      "source": [
        "plt.figure(figsize=(15,15))\n",
        "seaborn.lineplot(data=df_ind_resa, x=\"timestamp\", y=\"volumen\", hue=\"industria\")"
      ],
      "execution_count": null,
      "outputs": []
    },
    {
      "cell_type": "markdown",
      "metadata": {
        "id": "3NGevzju5sgP"
      },
      "source": [
        "### Patrones de manejo de inventario por producto\n"
      ]
    },
    {
      "cell_type": "code",
      "metadata": {
        "id": "6waak0Sr5fft"
      },
      "source": [
        "df_pro=df[[\"volumen\", \"nombre_producto\"]].groupby(\"nombre_producto\").describe()\n",
        "df_pro"
      ],
      "execution_count": null,
      "outputs": []
    },
    {
      "cell_type": "code",
      "metadata": {
        "id": "n0bFkRsy587T"
      },
      "source": [
        "df_pro.columns = df_pro.columns.droplevel(level=0)\n",
        "df_pro.sort_values(by='50%',ascending=False)"
      ],
      "execution_count": null,
      "outputs": []
    },
    {
      "cell_type": "code",
      "metadata": {
        "id": "gKYP4X4m6MGE"
      },
      "source": [
        "plt.figure(figsize=(12,6))#ver de agrupar productos, categorizaría primero porque sino el gráfico no dice nada (por ejemplo: diesel, gasoil, nafta y otros para los menos frecuentes)\n",
        "seaborn.boxplot(data=df, x=\"nombre_producto\", y=\"volumen\")"
      ],
      "execution_count": null,
      "outputs": []
    },
    {
      "cell_type": "code",
      "metadata": {
        "id": "_eWmNSJL3Ux5"
      },
      "source": [
        "#Por hora"
      ],
      "execution_count": null,
      "outputs": []
    },
    {
      "cell_type": "code",
      "metadata": {
        "id": "m2G8chP6D05h"
      },
      "source": [
        "df_pro_resa=df.groupby(\"nombre_producto\").resample(\"1H\", on=\"timestamp\").mean().reset_index()\n",
        "df_pro_resa"
      ],
      "execution_count": null,
      "outputs": []
    },
    {
      "cell_type": "code",
      "metadata": {
        "id": "d56kpeSZeTJq"
      },
      "source": [
        "plt.figure(figsize=(15,15))\n",
        "seaborn.lineplot(data=df_pro_resa, x=\"timestamp\", y=\"volumen\", hue=\"nombre_producto\")"
      ],
      "execution_count": null,
      "outputs": []
    },
    {
      "cell_type": "code",
      "metadata": {
        "id": "iFZQ7zesln7k"
      },
      "source": [
        "df_pro_resa=df_pro_resa[(df_pro_resa[\"timestamp\"]>\"2021-01-01\") & ((df_pro_resa[\"timestamp\"]<\"2021-01-05\"))]\n",
        "plt.figure(figsize=(15,15))\n",
        "seaborn.lineplot(data=df_pro_resa.rolling(24, center=True).mean(), x=\"timestamp\", y=\"volumen\", hue=\"nombre_producto\")"
      ],
      "execution_count": null,
      "outputs": []
    },
    {
      "cell_type": "code",
      "metadata": {
        "id": "EQCMvanX32FI"
      },
      "source": [
        "#Por día"
      ],
      "execution_count": null,
      "outputs": []
    },
    {
      "cell_type": "code",
      "metadata": {
        "id": "jtOTzrTR3314"
      },
      "source": [
        "df_pro_resa=df.groupby(\"nombre_producto\").resample(\"D\", on=\"timestamp\").mean().reset_index()\n",
        "df_pro_resa"
      ],
      "execution_count": null,
      "outputs": []
    },
    {
      "cell_type": "code",
      "metadata": {
        "id": "DWyg7HCh4C6g"
      },
      "source": [
        "df_pro_resa=df_pro_resa[(df_pro_resa[\"timestamp\"]>\"2021-01-01\") & ((df_pro_resa[\"timestamp\"]<\"2021-01-10\"))]\n"
      ],
      "execution_count": null,
      "outputs": []
    },
    {
      "cell_type": "code",
      "metadata": {
        "id": "CVl8w-MK4L2o"
      },
      "source": [
        "plt.figure(figsize=(15,15))\n",
        "seaborn.lineplot(data=df_pro_resa, x=\"timestamp\", y=\"volumen\", hue=\"nombre_producto\")"
      ],
      "execution_count": null,
      "outputs": []
    },
    {
      "cell_type": "code",
      "metadata": {
        "id": "LFV3Nfbf4T2R"
      },
      "source": [
        "# Por mes"
      ],
      "execution_count": null,
      "outputs": []
    },
    {
      "cell_type": "code",
      "metadata": {
        "id": "xf_dDchp4R56"
      },
      "source": [
        "df_pro_resa=df.groupby(\"nombre_producto\").resample(\"M\", on=\"timestamp\").mean().reset_index()\n",
        "df_pro_resa"
      ],
      "execution_count": null,
      "outputs": []
    },
    {
      "cell_type": "code",
      "metadata": {
        "id": "bjCksZMi4ZVm"
      },
      "source": [
        "plt.figure(figsize=(15,15))\n",
        "seaborn.lineplot(data=df_pro_resa, x=\"timestamp\", y=\"volumen\", hue=\"nombre_producto\")"
      ],
      "execution_count": null,
      "outputs": []
    },
    {
      "cell_type": "markdown",
      "metadata": {
        "id": "nmwGSO8PFkgj"
      },
      "source": [
        "### Primera y segunda derivada del `volumen` en el tiempo\n",
        "\n",
        "La primer derivada nos da información de los movimientos del `volumen` en el tiempo. Si el líquido sube, la pendiente es positiva, si es negativa, el líquido baja. Valores cercanos a cero nos indican poco movimiento, mientras que valores más grandes nos indican que el líquido se mueve en grandes cantidades."
      ]
    },
    {
      "cell_type": "code",
      "metadata": {
        "id": "c_PLICXPGxDb"
      },
      "source": [
        "# Cálculo de diferencia entre valores para obtener la pendiente\n",
        "df['volumen_diff'] = df.groupby('id_tanque')['volumen'].diff()"
      ],
      "execution_count": null,
      "outputs": []
    },
    {
      "cell_type": "code",
      "metadata": {
        "id": "41x7rfNPUgZr"
      },
      "source": [
        "# Seleccionamos un tanque en un rango de tiempo\n",
        "id_tanque = '1014'\n",
        "\n",
        "sample_tanque = df.query(\"\"\"\n",
        "    id_tanque == @id_tanque \\\n",
        "    and timestamp > '2021-01-01 02:00' \\\n",
        "    and timestamp < '2021-01-02 07:00'\n",
        "\"\"\")\n",
        "\n",
        "# Graficamos\n",
        "fig, axes = plt.subplots(2, 1, sharex=True, figsize=(15, 7))\n",
        "seaborn.lineplot(data=sample_tanque['volumen'], ax=axes[0])\n",
        "seaborn.lineplot(data=sample_tanque['volumen_diff'], ax=axes[1])\n",
        "axes[0].set_title(f\"Inventario del tanque {id_tanque}\")\n",
        "axes[1].set_title(f\"Primera derivada de volúmenes del tanque {}\")\n",
        "plt.ticklabel_format(style='plain', axis='y')\n",
        "seaborn.despine()"
      ],
      "execution_count": null,
      "outputs": []
    },
    {
      "cell_type": "markdown",
      "metadata": {
        "id": "R3lVQ7uUG1rH"
      },
      "source": [
        "La segunda derivada nos puede indicar cuál es la aceleración del movimiento del tanque."
      ]
    },
    {
      "cell_type": "code",
      "metadata": {
        "id": "ZduZXg87G17M"
      },
      "source": [
        "# Cálculo de diferencia entre diferencias para obtener la aceleración\n",
        "df['volumen_second_diff'] = df.groupby('id_tanque')['volumen_diff'].diff()"
      ],
      "execution_count": null,
      "outputs": []
    },
    {
      "cell_type": "code",
      "metadata": {
        "id": "hNXGuTtFVIYS"
      },
      "source": [
        "# Seleccionamos un tanque en un rango de tiempo\n",
        "id_tanque = '1014'\n",
        "\n",
        "sample_tanque = df.query(\"\"\"\n",
        "    id_tanque == @id_tanque \\\n",
        "    and timestamp > '2021-01-01 02:00' \\\n",
        "    and timestamp < '2021-01-02 07:00'\n",
        "\"\"\")\n",
        "\n",
        "# Graficamos\n",
        "fig, axes = plt.subplots(2, 1, sharex=True, figsize=(15, 7))\n",
        "seaborn.lineplot(data=sample_tanque['volumen'], ax=axes[0])\n",
        "seaborn.lineplot(data=sample_tanque['volumen_second_diff'], ax=axes[1])\n",
        "axes[0].set_title(f\"Inventario del tanque {id_tanque}\")\n",
        "axes[1].set_title(f\"Segunda derivada de volúmenes del tanque {}\")\n",
        "plt.ticklabel_format(style='plain', axis='y')\n",
        "seaborn.despine()"
      ],
      "execution_count": null,
      "outputs": []
    },
    {
      "cell_type": "markdown",
      "metadata": {
        "id": "TPvgjzFYHEcM"
      },
      "source": [
        "### Consumos por unidad de tiempo por centro operativo\n",
        "\n",
        "Para poder calcular los consumos, debemos sumar todas las diferencias negativas (primera derivada) por tanque de acuerdo a distintos rangos de tiempo. \n",
        "\n",
        "Seleccionamos los rangos de tiempo por hora, diario y mensual para calcular el consumo."
      ]
    },
    {
      "cell_type": "code",
      "metadata": {
        "id": "NxsqLw8jcxjq"
      },
      "source": [
        "df['period_hour'] = df['timestamp'].dt.to_period('H')\n",
        "df['period_day'] = df['timestamp'].dt.to_period('D')\n",
        "df['period_month'] = df['timestamp'].dt.to_period('M')"
      ],
      "execution_count": null,
      "outputs": []
    },
    {
      "cell_type": "markdown",
      "metadata": {
        "id": "gweqerzChVbH"
      },
      "source": [
        "Sumamos la columna calculada `volumen_diff` agrupando por tanque y por periodo."
      ]
    },
    {
      "cell_type": "code",
      "metadata": {
        "id": "fkVFN042esE6"
      },
      "source": [
        "# Nos quedamos con los valores negativos para facilitar la suma\n",
        "df['neg_volumen_diff'] = numpy.where(\n",
        "    df['volumen_diff'] < 0, \n",
        "    df['volumen_diff'].abs(), \n",
        "    0\n",
        ")"
      ],
      "execution_count": null,
      "outputs": []
    },
    {
      "cell_type": "code",
      "metadata": {
        "id": "2cOo2_0PHYde"
      },
      "source": [
        "# Calculamos la suma por periodo y lo agregamos a una nueva columna\n",
        "df['consumos_hourly'] = df\\\n",
        "    .groupby(['id_tanque', 'period_hour'])['neg_volumen_diff']\\\n",
        "    .transform('sum')\n",
        "df['consumos_daily'] = df\\\n",
        "    .groupby(['id_tanque', 'period_day'])['neg_volumen_diff']\\\n",
        "    .transform('sum')\n",
        "df['consumos_monthly'] = df\\\n",
        "    .groupby(['id_tanque', 'period_month'])['neg_volumen_diff']\\\n",
        "    .transform('sum')"
      ],
      "execution_count": null,
      "outputs": []
    },
    {
      "cell_type": "markdown",
      "metadata": {
        "id": "InsMFyKzh-A1"
      },
      "source": [
        "Graficamos los cosunmos de un tanque de muestra.  "
      ]
    },
    {
      "cell_type": "code",
      "metadata": {
        "id": "zL_L4Bx8azAH"
      },
      "source": [
        "id_tanque = '1014'\n",
        "\n",
        "sample_tanque = df.query(\"\"\"\n",
        "    id_tanque == @id_tanque \\\n",
        "    and timestamp > '2021-01-01 02:00' \\\n",
        "    and timestamp < '2021-01-02 07:00'\n",
        "\"\"\")\n",
        "\n",
        "fig, axes = plt.subplots(4, 1, sharex=False, figsize=(15, 10))\n",
        "seaborn.lineplot(\n",
        "    y=sample_tanque['volumen'], \n",
        "    x=sample_tanque['timestamp'],\n",
        "    ax=axes[0]\n",
        ")\n",
        "seaborn.barplot(\n",
        "    y=sample_tanque['consumos_hourly'], \n",
        "    x=sample_tanque['period_hour'],\n",
        "    ax=axes[1],\n",
        "    color=\"salmon\"\n",
        ")\n",
        "seaborn.barplot(\n",
        "    y=sample_tanque['consumos_daily'], \n",
        "    x=sample_tanque['period_hour'],\n",
        "    ax=axes[2],\n",
        "    color=\"salmon\"\n",
        ")\n",
        "seaborn.barplot(\n",
        "    y=sample_tanque['consumos_monthly'], \n",
        "    x=sample_tanque['period_hour'],\n",
        "    ax=axes[3],\n",
        "    color=\"salmon\"\n",
        ")\n",
        "plt.ticklabel_format(style='plain', axis='y')\n",
        "seaborn.despine()"
      ],
      "execution_count": null,
      "outputs": []
    },
    {
      "cell_type": "markdown",
      "metadata": {
        "id": "otz_8uHDUTFr"
      },
      "source": [
        "A veces puede haber ruido en el volumen histórico de los tanques que pueden confundirse con movimientos de combustible, por lo tanto, no sería correcto utilizar las diferencias entre volúmenes en el tiempo sin ningún tratamiento previo. Necesitamos suavizar los registros para obtener las diferencias reales. Para obtener el cálculo de consumos más preciso se utilizan las **direfencias entre las medias móviles**, tratamiento que será cubierto más adelante en el práctico de curación. \n",
        "\n",
        "Una vez obtenido el consumo en distintos periodos de tiempo por tanque, agrupamos los tanques para obtener los consumos por centro operativo."
      ]
    },
    {
      "cell_type": "code",
      "metadata": {
        "id": "_MpzjejMwp_c"
      },
      "source": [
        "# Calculamos la suma por periodo y lo agregamos a una nueva columna\n",
        "df['consumos_centro_hourly'] = df\\\n",
        "    .groupby(['id_equipo', 'period_hour'])['consumos_hourly']\\\n",
        "    .transform('sum')\n",
        "df['consumos_centro_daily'] = df\\\n",
        "    .groupby(['id_equipo', 'period_day'])['consumos_daily']\\\n",
        "    .transform('sum')\n",
        "df['consumos_centro_monthly'] = df\\\n",
        "    .groupby(['id_equipo', 'period_month'])['consumos_monthly']\\\n",
        "    .transform('sum')"
      ],
      "execution_count": null,
      "outputs": []
    },
    {
      "cell_type": "markdown",
      "metadata": {
        "id": "RDnoRQQNiRQy"
      },
      "source": [
        "Graficamos los consumos de un centro operativo de muestra."
      ]
    },
    {
      "cell_type": "code",
      "metadata": {
        "id": "taRhapM38iR0"
      },
      "source": [
        "id_equipo = '520'\n",
        "\n",
        "sample_equipo = df.query(\"\"\"\n",
        "    id_equipo == @id_equipo \\\n",
        "    and timestamp > '2021-01-01 02:00' \\\n",
        "    and timestamp < '2021-01-02 07:00'\n",
        "\"\"\")\n",
        "\n",
        "fig, axes = plt.subplots(3, 1, sharex=False, figsize=(15, 8))\n",
        "seaborn.barplot(\n",
        "    y=sample_equipo['consumos_centro_hourly'], \n",
        "    x=sample_equipo['period_hour'],\n",
        "    ax=axes[0],\n",
        "    color=\"salmon\"\n",
        ")\n",
        "seaborn.barplot(\n",
        "    y=sample_equipo['consumos_centro_daily'], \n",
        "    x=sample_equipo['period_hour'],\n",
        "    ax=axes[1],\n",
        "    color=\"salmon\"\n",
        ")\n",
        "seaborn.barplot(\n",
        "    y=sample_equipo['consumos_centro_monthly'], \n",
        "    x=sample_equipo['period_hour'],\n",
        "    ax=axes[2],\n",
        "    color=\"salmon\"\n",
        ")\n",
        "plt.ticklabel_format(style='plain', axis='y')\n",
        "seaborn.despine()"
      ],
      "execution_count": null,
      "outputs": []
    },
    {
      "cell_type": "markdown",
      "metadata": {
        "id": "08El9yzsHZXn"
      },
      "source": [
        "### Patrones de consumo por industria"
      ]
    },
    {
      "cell_type": "code",
      "metadata": {
        "id": "v_3QxyZO5WyZ"
      },
      "source": [
        "# Por hora"
      ],
      "execution_count": null,
      "outputs": []
    },
    {
      "cell_type": "code",
      "metadata": {
        "id": "fAV8lxyNHiwQ"
      },
      "source": [
        "df_ind_resa=df.groupby(\"industria\").resample(\"H\", on=\"timestamp\").mean().reset_index()"
      ],
      "execution_count": null,
      "outputs": []
    },
    {
      "cell_type": "code",
      "metadata": {
        "id": "hXxXL1Ud5g9G"
      },
      "source": [
        "df_ind_resa[\"consumos_hourly\"]=df_ind_resa[\"volumen\"].diff()"
      ],
      "execution_count": null,
      "outputs": []
    },
    {
      "cell_type": "code",
      "metadata": {
        "id": "T-TWMVDW55IJ"
      },
      "source": [
        "#df_ind_resa=df_ind_resa[df_ind_resa[\"consumos_hourly\"]<=0]"
      ],
      "execution_count": null,
      "outputs": []
    },
    {
      "cell_type": "code",
      "metadata": {
        "id": "uFGhlNlu5nMZ"
      },
      "source": [
        "df_ind_resa=df_ind_resa[(df_ind_resa['timestamp'] > '2021-01-01') & (df_ind_resa['timestamp'] < '2021-01-05')]\n",
        "plt.figure(figsize=(15,15))\n",
        "seaborn.lineplot(data=df_ind_resa, x=\"timestamp\", y=\"consumos_hourly\", hue=\"industria\")\n"
      ],
      "execution_count": null,
      "outputs": []
    },
    {
      "cell_type": "code",
      "metadata": {
        "id": "YTEWDWFR6Nws"
      },
      "source": [
        "# Por día"
      ],
      "execution_count": null,
      "outputs": []
    },
    {
      "cell_type": "code",
      "metadata": {
        "id": "Pg5HKaDf6Q2x"
      },
      "source": [
        "df_ind_resa=df.groupby(\"industria\").resample(\"D\", on=\"timestamp\").mean().reset_index()"
      ],
      "execution_count": null,
      "outputs": []
    },
    {
      "cell_type": "code",
      "metadata": {
        "id": "-wh2VVhr6XcJ"
      },
      "source": [
        "df_ind_resa[\"consumos_daily\"]=df_ind_resa[\"volumen\"].diff()"
      ],
      "execution_count": null,
      "outputs": []
    },
    {
      "cell_type": "code",
      "metadata": {
        "id": "NGHMY92j69FN"
      },
      "source": [
        "#df_ind_resa=df_ind_resa[df_ind_resa[\"volumen\"]<=0]"
      ],
      "execution_count": null,
      "outputs": []
    },
    {
      "cell_type": "code",
      "metadata": {
        "id": "VKI2wBoC6-bp"
      },
      "source": [
        "df_ind_resa=df_ind_resa[(df_ind_resa['timestamp'] > '2021-01-01') & (df_ind_resa['timestamp'] < '2021-01-10')]\n",
        "plt.figure(figsize=(15,15))\n",
        "seaborn.lineplot(data=df_ind_resa, x=\"timestamp\", y=\"consumos_dayle\", hue=\"industria\")"
      ],
      "execution_count": null,
      "outputs": []
    },
    {
      "cell_type": "code",
      "metadata": {
        "id": "HhFY7ABP7CzB"
      },
      "source": [
        "# Por mes"
      ],
      "execution_count": null,
      "outputs": []
    },
    {
      "cell_type": "code",
      "metadata": {
        "id": "fsplrNbB7KlS"
      },
      "source": [
        "df_ind_resa=df.groupby(\"industria\").resample(\"M\", on=\"timestamp\").mean().reset_index()"
      ],
      "execution_count": null,
      "outputs": []
    },
    {
      "cell_type": "code",
      "metadata": {
        "id": "W9esLt987S6R"
      },
      "source": [
        "df_ind_resa[\"consumos_monthly\"]=df_ind_resa[\"volumen\"].diff()"
      ],
      "execution_count": null,
      "outputs": []
    },
    {
      "cell_type": "code",
      "metadata": {
        "id": "zI0-bw3f7YKZ"
      },
      "source": [
        "#df_ind_resa=df_ind_resa[df_ind_resa[\"volumen\"]<=0]"
      ],
      "execution_count": null,
      "outputs": []
    },
    {
      "cell_type": "code",
      "metadata": {
        "id": "b15ikdiI7Y7J"
      },
      "source": [
        "plt.figure(figsize=(15,15))\n",
        "seaborn.lineplot(data=df_ind_resa, x=\"timestamp\", y=\"consumos_monthly\", hue=\"industria\")"
      ],
      "execution_count": null,
      "outputs": []
    },
    {
      "cell_type": "markdown",
      "metadata": {
        "id": "EnJ81LQK7foC"
      },
      "source": [
        "### Patrones de consumo por producto"
      ]
    },
    {
      "cell_type": "code",
      "metadata": {
        "id": "Xb0AExSi7fCl"
      },
      "source": [
        "# Por hora"
      ],
      "execution_count": null,
      "outputs": []
    },
    {
      "cell_type": "code",
      "metadata": {
        "id": "Af1nuWUw7qv1"
      },
      "source": [
        "df_pro_resa=df.groupby(\"nombre_producto\").resample(\"H\", on=\"timestamp\").mean().reset_index()"
      ],
      "execution_count": null,
      "outputs": []
    },
    {
      "cell_type": "code",
      "metadata": {
        "id": "n-z84uMK7uIx"
      },
      "source": [
        "df_pro_resa[\"consumos_hourly\"]=df_pro_resa[\"volumen\"].diff()"
      ],
      "execution_count": null,
      "outputs": []
    },
    {
      "cell_type": "code",
      "metadata": {
        "id": "sjB4nxFK7xst"
      },
      "source": [
        "#df_pro_resa=df_pro_resa[df_pro_resa[\"volumen\"]<=0]"
      ],
      "execution_count": null,
      "outputs": []
    },
    {
      "cell_type": "code",
      "metadata": {
        "id": "dlGUWFB472r-"
      },
      "source": [
        "df_pro_resa=df_pro_resa[(df_pro_resa['timestamp'] > '2021-01-01') & (df_pro_resa['timestamp'] < '2021-01-05')]\n",
        "plt.figure(figsize=(15,15))\n",
        "seaborn.lineplot(data=df_pro_resa, x=\"timestamp\", y=\"consumos_hourly\", hue=\"nombre_producto\")"
      ],
      "execution_count": null,
      "outputs": []
    },
    {
      "cell_type": "code",
      "metadata": {
        "id": "yoNurHqV76TM"
      },
      "source": [
        "# Por día"
      ],
      "execution_count": null,
      "outputs": []
    },
    {
      "cell_type": "code",
      "metadata": {
        "id": "xX02qjei77uA"
      },
      "source": [
        "df_pro_resa=df.groupby(\"nombre_producto\").resample(\"D\", on=\"timestamp\").mean().reset_index()"
      ],
      "execution_count": null,
      "outputs": []
    },
    {
      "cell_type": "code",
      "metadata": {
        "id": "VGbu6OXt7_up"
      },
      "source": [
        "df_pro_resa[\"consumos_daily\"]=df_pro_resa[\"volumen\"].diff()"
      ],
      "execution_count": null,
      "outputs": []
    },
    {
      "cell_type": "code",
      "metadata": {
        "id": "wTTT6izc8DJd"
      },
      "source": [
        "#df_pro_resa=df_pro_resa[df_pro_resa[\"volumen\"]<=0]"
      ],
      "execution_count": null,
      "outputs": []
    },
    {
      "cell_type": "code",
      "metadata": {
        "id": "92scGs6I8GSK"
      },
      "source": [
        "df_pro_resa=df_pro_resa[(df_pro_resa['timestamp'] > '2021-01-01') & (df_pro_resa['timestamp'] < '2021-01-10')]\n",
        "plt.figure(figsize=(15,15))\n",
        "seaborn.lineplot(data=df_pro_resa, x=\"timestamp\", y=\"consumos_daily\", hue=\"nombre_producto\")"
      ],
      "execution_count": null,
      "outputs": []
    },
    {
      "cell_type": "code",
      "metadata": {
        "id": "caos9Nbc8JiD"
      },
      "source": [
        "# Por mes"
      ],
      "execution_count": null,
      "outputs": []
    },
    {
      "cell_type": "code",
      "metadata": {
        "id": "hU2TKwMW8K21"
      },
      "source": [
        "df_pro_resa=df.groupby(\"nombre_producto\").resample(\"M\", on=\"timestamp\").mean().reset_index()"
      ],
      "execution_count": null,
      "outputs": []
    },
    {
      "cell_type": "code",
      "metadata": {
        "id": "QPPW_1db8QG9"
      },
      "source": [
        "df_pro_resa[\"consumos_monthly\"]=df_pro_resa[\"volumen\"].diff()"
      ],
      "execution_count": null,
      "outputs": []
    },
    {
      "cell_type": "code",
      "metadata": {
        "id": "lzK0Ridn8Tox"
      },
      "source": [
        "#df_pro_resa=df_pro_resa[df_pro_resa[\"volumen\"]<=0]"
      ],
      "execution_count": null,
      "outputs": []
    },
    {
      "cell_type": "code",
      "metadata": {
        "id": "IEqEy2f78UlZ"
      },
      "source": [
        "df_pro_resa=df_pro_resa[(df_pro_resa['timestamp'] > '2021-01-01') & (df_pro_resa['timestamp'] < '2021-01-10')]\n",
        "plt.figure(figsize=(15,15))\n",
        "seaborn.lineplot(data=df_pro_resa, x=\"timestamp\", y=\"consumos_monthly\", hue=\"nombre_producto\")"
      ],
      "execution_count": null,
      "outputs": []
    },
    {
      "cell_type": "markdown",
      "metadata": {
        "id": "t3TpMfWJHlny"
      },
      "source": [
        "### Análisis estadísitico de los consumos en general"
      ]
    },
    {
      "cell_type": "code",
      "metadata": {
        "id": "MQE9PYDbHu-d"
      },
      "source": [
        ""
      ],
      "execution_count": null,
      "outputs": []
    },
    {
      "cell_type": "markdown",
      "metadata": {
        "id": "RTtF8BsEHvP-"
      },
      "source": [
        "### Análisis estadístico de los consumos por industria"
      ]
    },
    {
      "cell_type": "markdown",
      "metadata": {
        "id": "RmiwanjhGzFk"
      },
      "source": [
        "\n",
        "Ver si los patrones de consumo de minería y telecomunicaciones son diferentes. Deberíamos explica por qué creemos encontrar diferencia entre estas dos industrias? Quizas para minería se necesite más combustible ya que se utilizan grandes maquinarias que insumen más combustible que las maquinarias que se emplean en telecomunicaciones. Igual con distintos productos, por ejemplo:  gas y nafta, el gas es más barato que la nafta por lo que podríamos esperar un mayor consumo de este "
      ]
    },
    {
      "cell_type": "code",
      "metadata": {
        "id": "w8FV0O6wNMhp"
      },
      "source": [
        "import scipy.stats"
      ],
      "execution_count": null,
      "outputs": []
    },
    {
      "cell_type": "code",
      "metadata": {
        "id": "WB4xqGN5KgBn"
      },
      "source": [
        "df.industria.value_counts()"
      ],
      "execution_count": null,
      "outputs": []
    },
    {
      "cell_type": "code",
      "metadata": {
        "id": "gmly54qFJwC2"
      },
      "source": [
        "Mineria=df[df.industria == \"Mining\"].volumen\n",
        "Telcos= df[df.industria == \"Telcos\"].volumen"
      ],
      "execution_count": null,
      "outputs": []
    },
    {
      "cell_type": "code",
      "metadata": {
        "id": "UM4f1MOsLWIQ"
      },
      "source": [
        "Mineria.mean(),  Mineria.var(), Mineria.std(), Mineria.count()"
      ],
      "execution_count": null,
      "outputs": []
    },
    {
      "cell_type": "code",
      "metadata": {
        "id": "jRyJsWqpMuSD"
      },
      "source": [
        "Telcos.mean(),  Telcos.var(), Telcos.std(), Telcos.count()"
      ],
      "execution_count": null,
      "outputs": []
    },
    {
      "cell_type": "code",
      "metadata": {
        "id": "NhGcS6twNUjR"
      },
      "source": [
        "scipy.stats.ttest_ind(Mineria, Telcos, equal_var = False)"
      ],
      "execution_count": null,
      "outputs": []
    },
    {
      "cell_type": "code",
      "metadata": {
        "id": "aWZnxfP7OgLE"
      },
      "source": [
        "Mineria_consumo=df_ind_resa[df_ind_resa.industria == \"Mining\"].consumos_hourly\n",
        "Telcos_consumo= df_ind_resa[df_ind_resa.industria == \"Telcos\"].consumos_hourly"
      ],
      "execution_count": null,
      "outputs": []
    },
    {
      "cell_type": "code",
      "metadata": {
        "id": "gXGPECIvQ3fN"
      },
      "source": [
        "Mineria_consumo.mean(),  Mineria_consumo.var(), Mineria_consumo.std(), Mineria_consumo.count()"
      ],
      "execution_count": null,
      "outputs": []
    },
    {
      "cell_type": "code",
      "metadata": {
        "id": "161xW_XjRD8Q"
      },
      "source": [
        "Telcos_consumo.mean(),  Telcos_consumo.var(), Telcos_consumo.std(), Telcos_consumo.count()"
      ],
      "execution_count": null,
      "outputs": []
    },
    {
      "cell_type": "code",
      "metadata": {
        "id": "nblOpSRtRMnI"
      },
      "source": [
        "scipy.stats.ttest_ind(Mineria_consumo, Telcos_consumo, equal_var = False)"
      ],
      "execution_count": null,
      "outputs": []
    },
    {
      "cell_type": "markdown",
      "metadata": {
        "id": "dlXSpstB8upT"
      },
      "source": [
        "### Análisis estadístico de los consumos por producto"
      ]
    },
    {
      "cell_type": "code",
      "metadata": {
        "id": "hPR-XECGR6TC"
      },
      "source": [
        "df.nombre_producto.value_counts()"
      ],
      "execution_count": null,
      "outputs": []
    },
    {
      "cell_type": "code",
      "metadata": {
        "id": "QU8pQnjXTAjv"
      },
      "source": [
        "Diesel=df[df.nombre_producto == \"Diesel\"].volumen\n",
        "Nafta= df[df.nombre_producto == \"Nafta\"].volumen"
      ],
      "execution_count": null,
      "outputs": []
    },
    {
      "cell_type": "code",
      "metadata": {
        "id": "noV7Dm9RUKUQ"
      },
      "source": [
        "Diesel.mean(), Diesel.var(), Diesel.std(), Diesel.count()"
      ],
      "execution_count": null,
      "outputs": []
    },
    {
      "cell_type": "code",
      "metadata": {
        "id": "cihxoWJRUhi_"
      },
      "source": [
        "Nafta.mean(), Nafta.var(), Nafta.std(), Nafta.count()"
      ],
      "execution_count": null,
      "outputs": []
    },
    {
      "cell_type": "code",
      "metadata": {
        "id": "3MiVwGuNU0Ta"
      },
      "source": [
        "scipy.stats.ttest_ind(Diesel, Nafta, equal_var = False)"
      ],
      "execution_count": null,
      "outputs": []
    },
    {
      "cell_type": "code",
      "metadata": {
        "id": "in5pqAb6VN8K"
      },
      "source": [
        "Diesel_consumo=df_pro_resa[df_pro_resa.nombre_producto == \"Diesel\"].consumos_hourly\n",
        "Nafta_consumo= df_pro_resa[df_pro_resa.nombre_producto == \"Nafta\"].consumos_hourly"
      ],
      "execution_count": null,
      "outputs": []
    },
    {
      "cell_type": "code",
      "metadata": {
        "id": "FxL3VkHxWFJg"
      },
      "source": [
        "Diesel_consumo.mean(), Diesel_consumo.var(), Diesel_consumo.std(), Diesel_consumo.count()"
      ],
      "execution_count": null,
      "outputs": []
    },
    {
      "cell_type": "code",
      "metadata": {
        "id": "Lnw30-a-WOTn"
      },
      "source": [
        "Nafta_consumo.mean(), Nafta_consumo.var(), Nafta_consumo.std(), Nafta_consumo.count()"
      ],
      "execution_count": null,
      "outputs": []
    },
    {
      "cell_type": "code",
      "metadata": {
        "id": "zJgJjqb6WVMR"
      },
      "source": [
        "scipy.stats.ttest_ind(Diesel_consumo, Nafta_consumo, equal_var = False)"
      ],
      "execution_count": null,
      "outputs": []
    },
    {
      "cell_type": "markdown",
      "metadata": {
        "id": "TSZ63JZdH6-G"
      },
      "source": [
        "### Media móvil de inventarios para cada indsutria\n",
        "\n",
        "La **media móvil** sobre el `volumen` nos muestra el inventario de forma suavizada. Para realizar el cálculo de la media móvil, se elige una ventana de tiempo.\n",
        "\n",
        "Se selecciona un centro operativo por industria para realizar el análisis."
      ]
    },
    {
      "cell_type": "code",
      "metadata": {
        "id": "ipoIEq2vV5U5"
      },
      "source": [
        "df['moving_avg'] = df.groupby('id_tanque')['volumen'].transform(\n",
        "    lambda x: x.rolling(window='2T', min_periods=2).mean()\n",
        ")"
      ],
      "execution_count": null,
      "outputs": []
    },
    {
      "cell_type": "markdown",
      "metadata": {
        "id": "x5jE1JUKIQ4B"
      },
      "source": [
        "### Media móvil de consumos para cada industria"
      ]
    },
    {
      "cell_type": "code",
      "metadata": {
        "id": "DYxmsObgIcZs"
      },
      "source": [
        "df['moving_avg'] = df.groupby('id_tanque')['consumos_hourly'].transform(\n",
        "    lambda x: x.rolling(window='2T', min_periods=1, center=True).mean()\n",
        ")"
      ],
      "execution_count": null,
      "outputs": []
    },
    {
      "cell_type": "markdown",
      "metadata": {
        "id": "l06iPYbdfpfk"
      },
      "source": [
        "## Conclusiones\n",
        "\n",
        "Cómo harían un cálculo simple para estimar inventarios en el corto plazo?\n",
        "\n",
        "Ideas:\n",
        "- Repetir Último valor visto.\n",
        "- Drift (media de últimos valores vistos)\n",
        "- Última pendiente\n",
        "- Media movil de últimas pendientes\n",
        "- última pendiente, y aplicar última aceleración (d' y d'')\n",
        "- Media movil de últimas pendientes y aplicar mm de última aceleración\n",
        "- Conjunto de últimos valores + último valor "
      ]
    },
    {
      "cell_type": "markdown",
      "metadata": {
        "id": "wM0-K07GI1f3"
      },
      "source": [
        "### Repetición del último valor visto en el tiempo."
      ]
    },
    {
      "cell_type": "code",
      "metadata": {
        "id": "pkOGRnSKsTtD"
      },
      "source": [
        ""
      ],
      "execution_count": null,
      "outputs": []
    },
    {
      "cell_type": "markdown",
      "metadata": {
        "id": "hEW3JKQ1I8LX"
      },
      "source": [
        "### Último valor visto y media móvil"
      ]
    },
    {
      "cell_type": "code",
      "metadata": {
        "id": "Ej-tIW6PJiZx"
      },
      "source": [
        ""
      ],
      "execution_count": null,
      "outputs": []
    },
    {
      "cell_type": "markdown",
      "metadata": {
        "id": "Q4ZLbGl2jEDy"
      },
      "source": [
        "### Últimos valores vistos"
      ]
    }
  ]
}