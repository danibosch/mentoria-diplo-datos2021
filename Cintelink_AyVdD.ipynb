{
  "nbformat": 4,
  "nbformat_minor": 0,
  "metadata": {
    "colab": {
      "name": "Cintelink - AyVdD.ipynb",
      "provenance": [],
      "collapsed_sections": [],
      "toc_visible": true,
      "include_colab_link": true
    },
    "kernelspec": {
      "name": "python3",
      "display_name": "Python 3"
    },
    "language_info": {
      "name": "python"
    }
  },
  "cells": [
    {
      "cell_type": "markdown",
      "metadata": {
        "id": "view-in-github",
        "colab_type": "text"
      },
      "source": [
        "<a href=\"https://colab.research.google.com/github/danibosch/mentoria-diplo-datos2021/blob/main/Cintelink_AyVdD.ipynb\" target=\"_parent\"><img src=\"https://colab.research.google.com/assets/colab-badge.svg\" alt=\"Open In Colab\"/></a>"
      ]
    },
    {
      "cell_type": "markdown",
      "metadata": {
        "id": "_wGzY26hLRzh"
      },
      "source": [
        "# Análisis y Visualización de Datos "
      ]
    },
    {
      "cell_type": "code",
      "metadata": {
        "id": "hf4hd_V5KTZk"
      },
      "source": [
        "import io\n",
        "import matplotlib\n",
        "import matplotlib.pyplot as plt\n",
        "import numpy\n",
        "import pandas as pd\n",
        "import seaborn\n",
        "\n",
        "seaborn.set_context('talk')\n",
        "# Set float format\n",
        "pd.set_option('display.float_format','{:.2f}'.format)\n",
        "\n",
        "# Set style\n",
        "seaborn.set_style(\"darkgrid\")\n",
        "seaborn.set_palette('pastel')\n",
        "seaborn.set_context(\"paper\", rc={\"font.size\":12,\"axes.titlesize\":12,\"axes.labelsize\":12}) "
      ],
      "execution_count": null,
      "outputs": []
    },
    {
      "cell_type": "code",
      "metadata": {
        "id": "WLRwaIbAWiU2"
      },
      "source": [
        "from google.colab import drive\n",
        "drive.mount('/content/drive')"
      ],
      "execution_count": null,
      "outputs": []
    },
    {
      "cell_type": "code",
      "metadata": {
        "id": "fkywFvhUzGok"
      },
      "source": [
        "def convert2float32(n):\n",
        "    try:\n",
        "        return numpy.float32(n)\n",
        "    except:\n",
        "        return numpy.nan\n",
        "\n",
        "def convert2float16(n):\n",
        "    try:\n",
        "        return numpy.float16(n)\n",
        "    except:\n",
        "        return numpy.nan\n",
        "\n",
        "def convert2int16(n):\n",
        "    try:\n",
        "        return numpy.int16(n)\n",
        "    except:\n",
        "        return numpy.nan\n",
        "\n",
        "def convert2int8(n):\n",
        "    try:\n",
        "        return numpy.int8(n)\n",
        "    except:\n",
        "        return numpy.nan"
      ],
      "execution_count": null,
      "outputs": []
    },
    {
      "cell_type": "code",
      "metadata": {
        "id": "BSjlCmpGQz8C"
      },
      "source": [
        "dtypes = {\n",
        "    \"id\": \"category\",\n",
        "    \"id_equipo\": \"category\",\n",
        "    \"id_tanque\": \"category\",\n",
        "    \"producto\": \"category\",\n",
        "    \"id_empresa\": \"category\",\n",
        "    \"id_canal\": \"category\",\n",
        "    \"nombre_producto\": \"category\",\n",
        "    \"industria\": \"category\",\n",
        "    \"alarma\": \"boolean\"\n",
        "}\n",
        "\n",
        "# Para evitar datos erróneos en el parsing\n",
        "converters = {\n",
        "    \"id_industria\": convert2float16,\n",
        "    \"volumen\": convert2float32,\n",
        "    \"vbat1\": convert2int16,\n",
        "    \"vbat2\": convert2int16,\n",
        "    \"capacidad\": convert2float32,\n",
        "    \"fuel_level_dmm\": convert2float32,\n",
        "    \"water_level_dmm\": convert2float32,\n",
        "    \"water_volume_lts\": convert2float32,\n",
        "    \"temp5\": convert2float16,\n",
        "    \"temp4\": convert2float16,\n",
        "    \"temp3\": convert2float16,\n",
        "    \"temp2\": convert2float16,\n",
        "    \"temp1\": convert2float16,\n",
        "    \"temperatura\": convert2float16,\n",
        "    \"coef_var_vol\": convert2float16,\n",
        "    \"density\": convert2float32\n",
        "}"
      ],
      "execution_count": null,
      "outputs": []
    },
    {
      "cell_type": "code",
      "metadata": {
        "id": "30eTZXUVLblX"
      },
      "source": [
        "# filename = '/content/drive/MyDrive/Colab Notebooks/DiploDatos/Mentoría/Datasets/dataset100mil.csv'\n",
        "filename = '/content/drive/MyDrive/Colab Notebooks/DiploDatos/Mentoría/Datasets/StorageInventory_2021_Q1.csv'\n",
        "raw_df = pd.read_csv(filename, converters=converters, dtype=dtypes, parse_dates=[\"timestamp\"])"
      ],
      "execution_count": null,
      "outputs": []
    },
    {
      "cell_type": "code",
      "metadata": {
        "id": "DRT1Gm8k9Ov8"
      },
      "source": [
        "raw_df.info(memory_usage=\"deep\")"
      ],
      "execution_count": null,
      "outputs": []
    },
    {
      "cell_type": "code",
      "metadata": {
        "id": "kNih1F5dNyTt"
      },
      "source": [
        "raw_df.head()"
      ],
      "execution_count": null,
      "outputs": []
    },
    {
      "cell_type": "code",
      "metadata": {
        "id": "woF8uVJTOVmU"
      },
      "source": [
        "# Tamaño del dataset\n",
        "len(raw_df)"
      ],
      "execution_count": null,
      "outputs": []
    },
    {
      "cell_type": "markdown",
      "metadata": {
        "id": "aTnf77l5UfiB"
      },
      "source": [
        "## Limpieza de datos"
      ]
    },
    {
      "cell_type": "markdown",
      "metadata": {
        "id": "746p7B5DIOOo"
      },
      "source": [
        "### Tipo de datos de columnas y separación de algunos datos"
      ]
    },
    {
      "cell_type": "code",
      "metadata": {
        "id": "q7BTim8sH-MF"
      },
      "source": [
        "raw_df['volumen'] = raw_df['volumen'].astype(numpy.float32)\n",
        "raw_df['temperatura'] = raw_df['temperatura'].astype(numpy.float16)\n",
        "raw_df['temp5'] = raw_df['temp5'].astype(numpy.float16)\n",
        "raw_df['temp4'] = raw_df['temp4'].astype(numpy.float16)\n",
        "raw_df['temp3'] = raw_df['temp3'].astype(numpy.float16)\n",
        "raw_df['temp2'] = raw_df['temp2'].astype(numpy.float16)\n",
        "raw_df['temp1'] = raw_df['temp1'].astype(numpy.float16)\n",
        "raw_df['fuel_level_dmm'] = raw_df['fuel_level_dmm'].astype(numpy.float32)\n",
        "raw_df['water_level_dmm'] = raw_df['water_level_dmm'].astype(numpy.float32)\n",
        "raw_df['water_volume_lts'] = raw_df['water_volume_lts'].astype(numpy.float32)\n",
        "raw_df['capacidad'] = raw_df['capacidad'].astype(numpy.float32)\n",
        "raw_df['coef_var_vol'] = raw_df['coef_var_vol'].astype(numpy.float16)\n",
        "raw_df['density'] = raw_df['density'].astype(numpy.float16)\n",
        "raw_df['vbat1'] = raw_df['vbat1'].astype(numpy.int16)\n",
        "raw_df['vbat2'] = raw_df['vbat2'].astype(numpy.int16)\n",
        "raw_df['id_industria'] = raw_df['id_industria'].astype(\"category\")\n",
        "raw_df['codigo'] = raw_df['codigo'].astype(\"str\")"
      ],
      "execution_count": null,
      "outputs": []
    },
    {
      "cell_type": "code",
      "metadata": {
        "id": "jgUpihbZLGt5"
      },
      "source": [
        "raw_df.info(memory_usage=\"deep\")"
      ],
      "execution_count": null,
      "outputs": []
    },
    {
      "cell_type": "markdown",
      "metadata": {
        "id": "puDv8oELJPXz"
      },
      "source": [
        "La columna `código` contiene dos dígitos, de los cuales, el primero representa el estado y el segundo representa la cantidad de ecos enviados por la sonda."
      ]
    },
    {
      "cell_type": "code",
      "metadata": {
        "id": "f-DTsqAGdLcx"
      },
      "source": [
        "raw_df['codigo'].unique()"
      ],
      "execution_count": null,
      "outputs": []
    },
    {
      "cell_type": "code",
      "metadata": {
        "id": "NeQnrGByLdkw"
      },
      "source": [
        "# Trabajamos sobre una copia y no sobre el original\n",
        "df = raw_df.copy()"
      ],
      "execution_count": null,
      "outputs": []
    },
    {
      "cell_type": "code",
      "metadata": {
        "id": "wrs21eEbohNC"
      },
      "source": [
        "# Si se llena la memoria, ejecutar\n",
        "del raw_df"
      ],
      "execution_count": null,
      "outputs": []
    },
    {
      "cell_type": "code",
      "metadata": {
        "id": "7g2ObslFchS6"
      },
      "source": [
        "# Separamos el código en dos datos\n",
        "df['c'] = df['codigo'].apply(lambda x: str(x)[0])\n",
        "df['echoes'] = pd.to_numeric(df['codigo'].apply(lambda x: str(x)[1]), errors='coerce')"
      ],
      "execution_count": null,
      "outputs": []
    },
    {
      "cell_type": "markdown",
      "metadata": {
        "id": "oXqJVWR1UiSy"
      },
      "source": [
        "### Valores faltantes\n",
        "\n",
        "Las columnas `volumen` y `temperatura`"
      ]
    },
    {
      "cell_type": "markdown",
      "metadata": {
        "id": "atMTgoRqHm7z"
      },
      "source": [
        "#### Volúmenes nulos"
      ]
    },
    {
      "cell_type": "code",
      "metadata": {
        "id": "M3G0X0JYY5Rj"
      },
      "source": [
        "nan = numpy.nan\n",
        "df.query(\"volumen == @nan\")"
      ],
      "execution_count": null,
      "outputs": []
    },
    {
      "cell_type": "markdown",
      "metadata": {
        "id": "4xKdwRjseKUx"
      },
      "source": [
        "#### Temperaturas nulas"
      ]
    },
    {
      "cell_type": "code",
      "metadata": {
        "id": "YMuSEuT3eUEY"
      },
      "source": [
        "nan = numpy.nan\n",
        "df.query(\"temperatura == @nan\")"
      ],
      "execution_count": null,
      "outputs": []
    },
    {
      "cell_type": "markdown",
      "metadata": {
        "id": "gyOE_7RQz6JX"
      },
      "source": [
        "### Fuel level codi nan"
      ]
    },
    {
      "cell_type": "code",
      "metadata": {
        "id": "jNh9JPpO0Dfk"
      },
      "source": [
        "#análisis de intersección nan entre variables\n",
        "df[df['temperatura'].isna()&df['codigo'].isna()&~df['fuel_level_dmm'].isna()]"
      ],
      "execution_count": null,
      "outputs": []
    },
    {
      "cell_type": "markdown",
      "metadata": {
        "id": "viQNXM2zXbBp"
      },
      "source": [
        "### Eliminación de outliers"
      ]
    },
    {
      "cell_type": "markdown",
      "metadata": {
        "id": "JpaeFTCt0hMt"
      },
      "source": [
        "#### Condiciones de filtrado\n",
        "A partir de la exploración de los datos definimos algunos criterios para el filtrado de nuestra base de datos. Por un lado, pudimos observar que la variable `volumen` posee valores mínimos negativos y que su máximo valor sobrepasa el valor máximo de la capacidad de los tanques, por lo que difinimos la primera y segunda condición de filtrado (cond_1 y cond_2) y nos quedamos con valores de volúmenes mayores o iguales a cero y menores a la capacidad máxima. Por otro lado, vimos que cuando la carga de alguna de las dos baterías es cero el nivel de combustible también es cero o produce valores nulos (nan) por lo que no se estaría estimando correctamente el valor de volumen, definiendo de esta manera las condidiones 3 y 4 (cond_3 y cond_4). Por último, no tuvimos en cuenta los valores nulos de código porque inferimos que el sensor no está funcionando y esto coincide con la existencia de valures nulos de temperatura y de nivel de combustible (cond_5)."
      ]
    },
    {
      "cell_type": "code",
      "metadata": {
        "id": "yB7UKCmG0uxL"
      },
      "source": [
        "# Volúmenes negativos\n",
        "cond_1 = df[\"volumen\"] >= 0\n",
        "\n",
        "# Volúmenes mayores a la capacidad del tanque\n",
        "cond_2 = df[\"volumen\"] < df[\"capacidad\"].max()\n",
        "\n",
        "# Voltaje del pulso de eco 0\n",
        "cond_3 = df[\"vbat1\"] != 0\n",
        "\n",
        "# Batería con voltaje 0\n",
        "cond_4 = df[\"vbat2\"] != 0\n",
        "\n",
        "# Esto lo pondría arriba, con los valores nulos\n",
        "cond_5 = ~df['codigo'].isna()"
      ],
      "execution_count": null,
      "outputs": []
    },
    {
      "cell_type": "code",
      "metadata": {
        "id": "oSI5OloU_dsY"
      },
      "source": [
        "df_fil = df[cond_1 & cond_2 & cond_3 & cond_4 & cond_5]\n",
        "df_fil"
      ],
      "execution_count": null,
      "outputs": []
    },
    {
      "cell_type": "code",
      "metadata": {
        "id": "MtVcUTm8AJn7"
      },
      "source": [
        "df_fil.info()"
      ],
      "execution_count": null,
      "outputs": []
    },
    {
      "cell_type": "code",
      "metadata": {
        "id": "wKxWB5DIAaZE"
      },
      "source": [
        "df_fil.describe().round()"
      ],
      "execution_count": null,
      "outputs": []
    },
    {
      "cell_type": "code",
      "metadata": {
        "id": "WDM7GCW6BAyf"
      },
      "source": [
        "f, (ax_box, ax_hist) = plt.subplots(2, sharex=True, figsize=(15,9),gridspec_kw={\"height_ratios\": (.15, .85)})\n",
        " \n",
        "seaborn.boxplot(df_fil.volumen, ax=ax_box)\n",
        "seaborn.distplot(df_fil.volumen, ax=ax_hist, kde=False, hist=False)\n",
        "seaborn.distplot(df_fil.volumen, ax=ax_hist, kde=True, hist=True,norm_hist=False)\n",
        "\n",
        "plt.axvline(df_fil.volumen.quantile(0.25))\n",
        "plt.axvline(df_fil.volumen.quantile(0.50),color='g')\n",
        "plt.axvline(df_fil.volumen.quantile(0.75))\n",
        "plt.ticklabel_format(style='plain', axis='x') \n",
        "plt.axvline(df_fil.volumen.mean(),color='red') \n",
        "ax_box.set_title\n",
        "plt.show()"
      ],
      "execution_count": null,
      "outputs": []
    },
    {
      "cell_type": "markdown",
      "metadata": {
        "id": "6KI4or86C3vk"
      },
      "source": [
        "Filtrado de outliers teniendo en cuenta el rango intercuartílico"
      ]
    },
    {
      "cell_type": "code",
      "metadata": {
        "id": "mSRSRbviBWm9"
      },
      "source": [
        "q1=df_fil.volumen.quantile(0.25)\n",
        "q3=df_fil.volumen.quantile(0.75)\n",
        "RI=q3-q1\n",
        "min=q1-2.5*RI\n",
        "max=q3+2.5*RI\n",
        "print(\"Límite inferior =\", min)\n",
        "print(\"Límite superior =\", max)"
      ],
      "execution_count": null,
      "outputs": []
    },
    {
      "cell_type": "code",
      "metadata": {
        "id": "8TTsbrkBBuOP"
      },
      "source": [
        "df_fil_out=  df_fil[df_fil.volumen < max]\n",
        "df_fil_out[:3]"
      ],
      "execution_count": null,
      "outputs": []
    },
    {
      "cell_type": "markdown",
      "metadata": {
        "id": "KFVQJuooGvpL"
      },
      "source": [
        "Filtrado de outliers teniendo en cuenta el la desviación estándar"
      ]
    },
    {
      "cell_type": "code",
      "metadata": {
        "id": "k7ZocByhBmSr"
      },
      "source": [
        "vol_mean=df.volumen.mean()\n",
        "vol_std=df.volumen.std()\n",
        "min_s=vol_mean - 2.5 * vol_std\n",
        "max_s=vol_mean + 2.5 * vol_std\n",
        "print(\"Límite inferior =\", min_s)\n",
        "print(\"Límite superior =\", max_s)"
      ],
      "execution_count": null,
      "outputs": []
    },
    {
      "cell_type": "code",
      "metadata": {
        "id": "w2Z4PSSpBptC"
      },
      "source": [
        "df_fil_out=df_fil[df_fil.volumen < max_s]\n",
        "df_fil_out[:3]"
      ],
      "execution_count": null,
      "outputs": []
    },
    {
      "cell_type": "code",
      "metadata": {
        "id": "Xw9baanmB6-r"
      },
      "source": [
        "f, (ax_box, ax_hist) = plt.subplots(2, sharex=True, figsize=(15,9),gridspec_kw={\"height_ratios\": (.15, .85)})\n",
        " \n",
        "seaborn.boxplot(df_fil_out.volumen, ax=ax_box)\n",
        "seaborn.distplot(df_fil_out.volumen, ax=ax_hist, kde=False, hist=False)\n",
        "seaborn.distplot(df_fil_out.volumen, ax=ax_hist, kde=True, hist=True,norm_hist=False)\n",
        "\n",
        "plt.axvline(df_fil_out.volumen.quantile(0.25))\n",
        "plt.axvline(df_fil_out.volumen.quantile(0.50),color='g')\n",
        "plt.axvline(df_fil_out.volumen.quantile(0.75))\n",
        "plt.ticklabel_format(style='plain', axis='x') \n",
        "plt.axvline(df_fil_out.volumen.mean(),color='red') \n",
        "ax_box.set_title\n",
        "plt.show()"
      ],
      "execution_count": null,
      "outputs": []
    },
    {
      "cell_type": "markdown",
      "metadata": {
        "id": "Xcx3MXkHg509"
      },
      "source": [
        "#### Códigos de error"
      ]
    },
    {
      "cell_type": "code",
      "metadata": {
        "id": "RPM1-EI9ZZmg"
      },
      "source": [
        "# Códigos de error\n",
        "# Incluyendo Ok o excluyendo error?\n",
        "ok_codes = ['N', 'L', 'V', 'U', 'P', 'T', 'A', 'I', '0']\n",
        "df.query(\"c not in @ok_codes\").head()"
      ],
      "execution_count": null,
      "outputs": []
    },
    {
      "cell_type": "code",
      "metadata": {
        "id": "qJEHS0nobPkY"
      },
      "source": [
        "error_codes = ['m', 'M', 'F']\n",
        "df.query(\"c in @error_codes\").head()"
      ],
      "execution_count": null,
      "outputs": []
    },
    {
      "cell_type": "code",
      "metadata": {
        "id": "VjT4Oh0coTuX"
      },
      "source": [
        "# Obtenemos el mismo resultado?\n",
        "len(df.query(\"c not in @ok_codes\")) == len(df.query(\"c in @error_codes\"))"
      ],
      "execution_count": null,
      "outputs": []
    },
    {
      "cell_type": "markdown",
      "metadata": {
        "id": "cbs91dAfhBJN"
      },
      "source": [
        "#### Ecos cero"
      ]
    },
    {
      "cell_type": "code",
      "metadata": {
        "id": "_kUjs3d6b21y"
      },
      "source": [
        "\n",
        "df.query(\"echoes == 0\").head()"
      ],
      "execution_count": null,
      "outputs": []
    },
    {
      "cell_type": "markdown",
      "metadata": {
        "id": "gU3DnvfPhHi3"
      },
      "source": [
        "#### Pérdida de ecos en un mismo tanque"
      ]
    },
    {
      "cell_type": "code",
      "metadata": {
        "id": "6GZ67nLgCX2b"
      },
      "source": [
        ""
      ],
      "execution_count": null,
      "outputs": []
    },
    {
      "cell_type": "markdown",
      "metadata": {
        "id": "dlpYXTtACYM9"
      },
      "source": [
        "#### Filtrado por rango intercuartílico de mediana móvil\n",
        "\n",
        "Calculamos la mediana móvil del `volumen` con distintas ventanas de tiempo."
      ]
    },
    {
      "cell_type": "code",
      "metadata": {
        "id": "-e6YeU2WqBOU"
      },
      "source": [
        "window = 5\n",
        "df['moving_avg'] = df.groupby('id_tanque')['volumen'].transform(\n",
        "    lambda x: x.rolling(window=window, min_periods=1, center=True).mean()\n",
        ")"
      ],
      "execution_count": null,
      "outputs": []
    },
    {
      "cell_type": "code",
      "metadata": {
        "id": "YO4YZx1OsmuH"
      },
      "source": [
        "fig = plt.figure(figsize=(15, 7))\n",
        "seaborn.lineplot(\n",
        "    data=tanque, \n",
        "    y='volumen', \n",
        "    x='timestamp' \n",
        ")\n",
        "seaborn.lineplot(\n",
        "    data=tanque, \n",
        "    y='moving_avg', \n",
        "    x='timestamp' \n",
        ")\n",
        "seaborn.lineplot(\n",
        "    data=tanque, \n",
        "    y='upper_bond', \n",
        "    x='timestamp' \n",
        ")\n",
        "seaborn.lineplot(\n",
        "    data=tanque, \n",
        "    y='lower_bond', \n",
        "    x='timestamp' \n",
        ")\n",
        "plt.ticklabel_format(style='plain', axis='y')\n",
        "seaborn.despine()"
      ],
      "execution_count": null,
      "outputs": []
    },
    {
      "cell_type": "code",
      "metadata": {
        "id": "bkX6ooeOuB8W"
      },
      "source": [
        "fig = plt.figure(figsize=(15, 7))\n",
        "seaborn.lineplot(\n",
        "    data=tanque[1400:1500], \n",
        "    y='volumen', \n",
        "    x='timestamp' \n",
        ")\n",
        "seaborn.lineplot(\n",
        "    data=tanque[1400:1480], \n",
        "    y='moving_avg', \n",
        "    x='timestamp' \n",
        ")\n",
        "seaborn.lineplot(\n",
        "    data=tanque[1400:1480], \n",
        "    y='upper_bond', \n",
        "    x='timestamp' \n",
        ")\n",
        "seaborn.lineplot(\n",
        "    data=tanque[1400:1480], \n",
        "    y='lower_bond', \n",
        "    x='timestamp' \n",
        ")\n",
        "plt.ticklabel_format(style='plain', axis='y')\n",
        "seaborn.despine()"
      ],
      "execution_count": null,
      "outputs": []
    },
    {
      "cell_type": "markdown",
      "metadata": {
        "id": "9eFLY1tzVPQc"
      },
      "source": [
        "### Uniformidad de tiempo de los datos"
      ]
    },
    {
      "cell_type": "code",
      "metadata": {
        "id": "MBgnP2rXVaWI"
      },
      "source": [
        ""
      ],
      "execution_count": null,
      "outputs": []
    },
    {
      "cell_type": "markdown",
      "metadata": {
        "id": "6qd5H9kLVaml"
      },
      "source": [
        "### Resampling del timeseries\n",
        "#### Bfill"
      ]
    },
    {
      "cell_type": "code",
      "metadata": {
        "id": "X9lLM2dLVfc-"
      },
      "source": [
        "# 10 minutos\n",
        "tanque_resampled = tanque.resample('10T').bfill()\n",
        "tanque_resampled"
      ],
      "execution_count": null,
      "outputs": []
    },
    {
      "cell_type": "code",
      "metadata": {
        "id": "X2C77p8OWCnc"
      },
      "source": [
        "fig = plt.figure(figsize=(15, 7))\n",
        "seaborn.lineplot(\n",
        "    data=tanque_resampled[1400:1500], \n",
        "    y='volumen', \n",
        "    x='timestamp' \n",
        ")\n",
        "plt.ticklabel_format(style='plain', axis='y')\n",
        "seaborn.despine()"
      ],
      "execution_count": null,
      "outputs": []
    },
    {
      "cell_type": "markdown",
      "metadata": {
        "id": "SBssMDqgHB8p"
      },
      "source": [
        "### Agrupación de inventarios"
      ]
    },
    {
      "cell_type": "markdown",
      "metadata": {
        "id": "4SOjpBQsVezH"
      },
      "source": [
        "### Normalización de valores\n",
        "\n",
        "Ideas: (esto es curación?) \n",
        "- Ajustar por temperatura.\n",
        "- Restar volumen de agua."
      ]
    },
    {
      "cell_type": "code",
      "metadata": {
        "id": "KyFiIch_fOhL"
      },
      "source": [
        ""
      ],
      "execution_count": null,
      "outputs": []
    },
    {
      "cell_type": "markdown",
      "metadata": {
        "id": "4OIBtS8YfPzX"
      },
      "source": [
        "## Análisis\n",
        "\n",
        "Para esta etapa se procede a analizar los distintos inventarios agrupándolos por diferentes criterios."
      ]
    },
    {
      "cell_type": "markdown",
      "metadata": {
        "id": "y4YWNXf4EKzA"
      },
      "source": [
        "### Invetarios sobre centros operativos\n",
        "\n",
        "Se seleccionan algunos centros operativos para analizar el comportamiento de sus inventarios. Para esto, realizamos una selección aleatoria de la columna `id_equipo`."
      ]
    },
    {
      "cell_type": "code",
      "metadata": {
        "id": "5tmYl_N0EfM6"
      },
      "source": [
        ""
      ],
      "execution_count": null,
      "outputs": []
    },
    {
      "cell_type": "markdown",
      "metadata": {
        "id": "RDiRSPF1EhF1"
      },
      "source": [
        "### Patrones de manejo de inventario por industria"
      ]
    },
    {
      "cell_type": "code",
      "metadata": {
        "id": "70pPNpZdEnoI"
      },
      "source": [
        ""
      ],
      "execution_count": null,
      "outputs": []
    },
    {
      "cell_type": "markdown",
      "metadata": {
        "id": "O9Ybfda4Eq4T"
      },
      "source": [
        "### Descriptores estadísticos de los inventarios"
      ]
    },
    {
      "cell_type": "code",
      "metadata": {
        "id": "LLn-HI02E4cv"
      },
      "source": [
        ""
      ],
      "execution_count": null,
      "outputs": []
    },
    {
      "cell_type": "markdown",
      "metadata": {
        "id": "Ooy-8AWmE59_"
      },
      "source": [
        "### Distribución de manejo de inventarios por industria\n",
        "\n",
        "Graficamos un boxplot para poder visualizar la distribución de los volúmenes que maneja cada industria."
      ]
    },
    {
      "cell_type": "code",
      "metadata": {
        "id": "-PzHwakqFSzh"
      },
      "source": [
        ""
      ],
      "execution_count": null,
      "outputs": []
    },
    {
      "cell_type": "markdown",
      "metadata": {
        "id": "B_0vTc1HFYtZ"
      },
      "source": [
        "### Correlación de cada una de las features del dataset"
      ]
    },
    {
      "cell_type": "code",
      "metadata": {
        "id": "5nDvqN7LFf5l"
      },
      "source": [
        ""
      ],
      "execution_count": null,
      "outputs": []
    },
    {
      "cell_type": "markdown",
      "metadata": {
        "id": "nmwGSO8PFkgj"
      },
      "source": [
        "### Primera y segunda derivada del `volumen` en el tiempo\n",
        "\n",
        "La primer derivada nos da información de los movimientos del `volumen` en el tiempo. Si el líquido sube, la pendiente es positiva, si es negativa, el líquido baja. Valores cercanos a cero nos indican poco movimiento, mientras que valores más grandes nos indican que el líquido se mueve en grandes cantidades."
      ]
    },
    {
      "cell_type": "code",
      "metadata": {
        "id": "c_PLICXPGxDb"
      },
      "source": [
        "# Graficar un tanque + diff"
      ],
      "execution_count": null,
      "outputs": []
    },
    {
      "cell_type": "markdown",
      "metadata": {
        "id": "R3lVQ7uUG1rH"
      },
      "source": [
        "La segunda derivada nos puede indicar cuál es la aceleración del movimiento del tanque."
      ]
    },
    {
      "cell_type": "code",
      "metadata": {
        "id": "ZduZXg87G17M"
      },
      "source": [
        "# Graficar un tanque + diff de diff"
      ],
      "execution_count": null,
      "outputs": []
    },
    {
      "cell_type": "markdown",
      "metadata": {
        "id": "TPvgjzFYHEcM"
      },
      "source": [
        "### Consumos por unidad de tiempo por centro operativo\n",
        "\n",
        "Se seleccionan algunos centros operativos"
      ]
    },
    {
      "cell_type": "code",
      "metadata": {
        "id": "2cOo2_0PHYde"
      },
      "source": [
        ""
      ],
      "execution_count": null,
      "outputs": []
    },
    {
      "cell_type": "markdown",
      "metadata": {
        "id": "08El9yzsHZXn"
      },
      "source": [
        "### Patrones de consumo por industria"
      ]
    },
    {
      "cell_type": "code",
      "metadata": {
        "id": "fAV8lxyNHiwQ"
      },
      "source": [
        ""
      ],
      "execution_count": null,
      "outputs": []
    },
    {
      "cell_type": "markdown",
      "metadata": {
        "id": "t3TpMfWJHlny"
      },
      "source": [
        "### Análisis estadísitico de los consumos en general"
      ]
    },
    {
      "cell_type": "code",
      "metadata": {
        "id": "MQE9PYDbHu-d"
      },
      "source": [
        ""
      ],
      "execution_count": null,
      "outputs": []
    },
    {
      "cell_type": "markdown",
      "metadata": {
        "id": "RTtF8BsEHvP-"
      },
      "source": [
        "### Análisis estadístico de los consumos por industria"
      ]
    },
    {
      "cell_type": "code",
      "metadata": {
        "id": "LII_A-cIH0iz"
      },
      "source": [
        ""
      ],
      "execution_count": null,
      "outputs": []
    },
    {
      "cell_type": "markdown",
      "metadata": {
        "id": "TSZ63JZdH6-G"
      },
      "source": [
        "### Media móvil de inventarios para cada indsutria\n",
        "\n",
        "Se selecciona un centro operativo por industria para realizar el análisis."
      ]
    },
    {
      "cell_type": "code",
      "metadata": {
        "id": "oLdfabGbH7du"
      },
      "source": [
        "# Ventana numérica"
      ],
      "execution_count": null,
      "outputs": []
    },
    {
      "cell_type": "code",
      "metadata": {
        "id": "tZHuTUmIItTo"
      },
      "source": [
        "# Ventana por tiempo"
      ],
      "execution_count": null,
      "outputs": []
    },
    {
      "cell_type": "markdown",
      "metadata": {
        "id": "x5jE1JUKIQ4B"
      },
      "source": [
        "### Media móvil de consumos para cada industria"
      ]
    },
    {
      "cell_type": "code",
      "metadata": {
        "id": "DYxmsObgIcZs"
      },
      "source": [
        "# Ventana numérica"
      ],
      "execution_count": null,
      "outputs": []
    },
    {
      "cell_type": "code",
      "metadata": {
        "id": "IgrybdMTIwYM"
      },
      "source": [
        "# Ventana de tiempo"
      ],
      "execution_count": null,
      "outputs": []
    },
    {
      "cell_type": "markdown",
      "metadata": {
        "id": "l06iPYbdfpfk"
      },
      "source": [
        "## Conclusiones\n",
        "\n",
        "Cómo harían un cálculo simple para estimar inventarios en el corto plazo?\n",
        "\n",
        "Ideas:\n",
        "- Repetir Último valor visto.\n",
        "- Drift (media de últimos valores vistos)\n",
        "- Última pendiente\n",
        "- Media movil de últimas pendientes\n",
        "- última pendiente, y aplicar última aceleración (d' y d'')\n",
        "- Media movil de últimas pendientes y aplicar mm de última aceleración\n",
        "- Conjunto de últimos valores + último valor "
      ]
    },
    {
      "cell_type": "markdown",
      "metadata": {
        "id": "wM0-K07GI1f3"
      },
      "source": [
        "### Repetición del último valor visto en el tiempo."
      ]
    },
    {
      "cell_type": "code",
      "metadata": {
        "id": "pkOGRnSKsTtD"
      },
      "source": [
        ""
      ],
      "execution_count": null,
      "outputs": []
    },
    {
      "cell_type": "markdown",
      "metadata": {
        "id": "hEW3JKQ1I8LX"
      },
      "source": [
        "### Último valor visto y media móvil"
      ]
    },
    {
      "cell_type": "code",
      "metadata": {
        "id": "Ej-tIW6PJiZx"
      },
      "source": [
        ""
      ],
      "execution_count": null,
      "outputs": []
    },
    {
      "cell_type": "markdown",
      "metadata": {
        "id": "y0xLs9PEVeQG"
      },
      "source": [
        "## Notas"
      ]
    },
    {
      "cell_type": "markdown",
      "metadata": {
        "id": "NDfWt_63Fia8"
      },
      "source": [
        "Ordenar:  \n",
        "Limpieza\n",
        "1. Valores faltantes\n",
        " - Ver volúmenes nulos si hay\n",
        " \n",
        "2. Outliers\n",
        "  - Volúmenes negativos (quitar)\n",
        "  - Volúmenes por encima de la capacidad \n",
        "  - Volúmenes no numéricos\n",
        "  - Tanques con pocos registros\n",
        "  - Volúmenes que se salen de cierto rango alrededor de la media móvil (intervalos de confianza? porcentajes? ver histogramas?)\n",
        "  - Registros con códigos de error (definidas en tabla)\n",
        "  - Registros con ecos 0 (tener en cuenta sondas de presión)\n",
        "  - Temp5 fuera de rango (idem anterior media movil? intervalos?)\n",
        "  - vbat1/2 fuera de rango (idem anterior)\n",
        "  - Capacidades negativas, muy chicas. Ver histograma\n",
        "\n",
        "3. No se encuentran uniformes\n",
        "  - Graficar un par donde se vean\n",
        "  - Calcular diff de tiempos, distribucion.\n",
        "\n",
        "4. Resample\n",
        "  - interpolación (lineal? cúbica?)\n",
        "  - con bfill, etc, mostrar que no está bueno.\n",
        "  - Interpolación en espacios de tiempo muy largos.\n",
        "\n",
        "5. Agrupación\n",
        "  - Tanques\n",
        "\n",
        "6. Normalizar valores\n",
        "  - Variación por temperatura?\n",
        "  - Variación por cantidad de agua?\n",
        "\n",
        "Análisis\n",
        "1. Gráfico de centros op seleccionados.\n",
        "2. Patrones por industria (análisis que hizo Lau)\n",
        "3. Descriptores estadísticos\n",
        "  - Medidas de centralización\n",
        "  - Medidas de dispersión\n",
        "4. Manejo de inventarios por industria (idem 2?) (Lau) \n",
        "5. Correlación de features (analisis de Lau)\n",
        "6. Derivada primera y derivada segunda\n",
        "  - Derivada primera nos dice si el líquido sube o baja.\n",
        "  - Derivada segunda, velocidad de crecimiento/decr? aceleración de crec/decr?\n",
        "7. Consumo por unidad de tiempo por centro operativo.\n",
        "  - Suma de diffs negativos absoluto? Quizás sobre media movil. Ver dispersión de media movil\n",
        "8. Patrones de consumo por industria.\n",
        "9. Descriptores estadísticos consumo general y por industria.\n",
        "10. Media móvil de centros operativos por industria.\n",
        "11. Media móvil de consumos de centros operativos por industria.\n",
        "\n",
        "\n",
        "\n",
        "===================================\n",
        "\n",
        "Análisis:\n",
        "- Autocorrelación (correlacion para series temporales sobre los lags)\n",
        "\n",
        "Plots:\n",
        "- Time plot\n",
        "- Seasonal plot\n",
        "- Polar plot\n",
        "- Lag plot (scatter?)\n",
        "\n",
        "Predicciones naïve:\n"
      ]
    }
  ]
}